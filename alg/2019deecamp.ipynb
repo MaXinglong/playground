{
 "cells": [
  {
   "cell_type": "code",
   "execution_count": 1,
   "metadata": {},
   "outputs": [],
   "source": [
    "import numpy as np"
   ]
  },
  {
   "cell_type": "code",
   "execution_count": 2,
   "metadata": {},
   "outputs": [],
   "source": [
    "import matplotlib.pyplot as plt"
   ]
  },
  {
   "cell_type": "code",
   "execution_count": 3,
   "metadata": {},
   "outputs": [],
   "source": [
    "import cv2"
   ]
  },
  {
   "cell_type": "code",
   "execution_count": 4,
   "metadata": {},
   "outputs": [],
   "source": [
    "from datetime import datetime"
   ]
  },
  {
   "cell_type": "code",
   "execution_count": 4,
   "metadata": {},
   "outputs": [],
   "source": [
    "def read_data():\n",
    "    mnist = np.load(\"./mnist.npz\")\n",
    "    X = mnist[\"X\"]\n",
    "    return X, mnist"
   ]
  },
  {
   "cell_type": "code",
   "execution_count": 5,
   "metadata": {},
   "outputs": [],
   "source": [
    "X, mnist = read_data()"
   ]
  },
  {
   "cell_type": "code",
   "execution_count": 6,
   "metadata": {},
   "outputs": [
    {
     "data": {
      "text/plain": [
       "(10000, 28, 28)"
      ]
     },
     "execution_count": 6,
     "metadata": {},
     "output_type": "execute_result"
    }
   ],
   "source": [
    "X.shape"
   ]
  },
  {
   "cell_type": "code",
   "execution_count": 10,
   "metadata": {},
   "outputs": [
    {
     "data": {
      "text/plain": [
       "<matplotlib.image.AxesImage at 0x13f083767b8>"
      ]
     },
     "execution_count": 10,
     "metadata": {},
     "output_type": "execute_result"
    },
    {
     "data": {
      "image/png": "[encoded data removed]",
      "text/plain": [
       "<Figure size 432x288 with 1 Axes>"
      ]
     },
     "metadata": {},
     "output_type": "display_data"
    }
   ],
   "source": [
    "plt.imshow(X[0], 'gray')"
   ]
  },
  {
   "cell_type": "code",
   "execution_count": null,
   "metadata": {},
   "outputs": [],
   "source": [
    "cv2.RETR_EXTERNAL"
   ]
  },
  {
   "cell_type": "code",
   "execution_count": 18,
   "metadata": {},
   "outputs": [
    {
     "name": "stdout",
     "output_type": "stream",
     "text": [
      "9705\n"
     ]
    }
   ],
   "source": [
    "print(sum_val)"
   ]
  },
  {
   "cell_type": "code",
   "execution_count": 17,
   "metadata": {},
   "outputs": [
    {
     "name": "stdout",
     "output_type": "stream",
     "text": [
      "29\n",
      "54\n",
      "81\n",
      "102\n",
      "191\n",
      "246\n",
      "247\n",
      "277\n",
      "305\n",
      "317\n",
      "381\n",
      "393\n",
      "409\n",
      "429\n",
      "441\n",
      "530\n",
      "582\n",
      "583\n",
      "649\n",
      "651\n",
      "657\n",
      "674\n",
      "685\n",
      "687\n",
      "698\n",
      "720\n",
      "749\n",
      "777\n",
      "800\n",
      "823\n",
      "860\n",
      "865\n",
      "990\n",
      "1079\n",
      "1081\n",
      "1123\n",
      "1183\n",
      "1201\n",
      "1279\n",
      "1306\n",
      "1328\n",
      "1375\n",
      "1390\n",
      "1435\n",
      "1522\n",
      "1537\n",
      "1571\n",
      "1582\n",
      "1586\n",
      "1601\n",
      "1613\n",
      "1690\n",
      "1708\n",
      "1860\n",
      "1875\n",
      "1907\n",
      "1936\n",
      "1937\n",
      "1954\n",
      "1965\n",
      "1967\n",
      "2041\n",
      "2046\n",
      "2061\n",
      "2091\n",
      "2105\n",
      "2162\n",
      "2217\n",
      "2221\n",
      "2261\n",
      "2393\n",
      "2400\n",
      "2440\n",
      "2553\n",
      "2561\n",
      "2568\n",
      "2674\n",
      "2680\n",
      "2757\n",
      "2774\n",
      "2818\n",
      "2824\n",
      "2878\n",
      "2941\n",
      "2942\n",
      "2966\n",
      "2978\n",
      "3046\n",
      "3082\n",
      "3089\n",
      "3101\n",
      "3164\n",
      "3169\n",
      "3190\n",
      "3225\n",
      "3288\n",
      "3325\n",
      "3393\n",
      "3394\n",
      "3586\n",
      "3591\n",
      "3659\n",
      "3706\n",
      "3767\n",
      "3803\n",
      "3804\n",
      "3858\n",
      "3872\n",
      "3992\n",
      "3998\n",
      "4037\n",
      "4119\n",
      "4196\n",
      "4270\n",
      "4290\n",
      "4297\n",
      "4301\n",
      "4314\n",
      "4403\n",
      "4454\n",
      "4495\n",
      "4529\n",
      "4550\n",
      "4602\n",
      "4712\n",
      "4721\n",
      "4791\n",
      "4832\n",
      "4842\n",
      "4857\n",
      "4863\n",
      "4896\n",
      "4909\n",
      "4924\n",
      "4940\n",
      "4994\n",
      "5024\n",
      "5044\n",
      "5082\n",
      "5232\n",
      "5235\n",
      "5246\n",
      "5354\n",
      "5452\n",
      "5467\n",
      "5494\n",
      "5516\n",
      "5537\n",
      "5541\n",
      "5560\n",
      "5562\n",
      "5571\n",
      "5572\n",
      "5583\n",
      "5601\n",
      "5646\n",
      "5682\n",
      "5719\n",
      "5725\n",
      "5747\n",
      "5762\n",
      "5776\n",
      "5800\n",
      "5804\n",
      "5807\n",
      "5812\n",
      "5839\n",
      "5960\n",
      "5992\n",
      "6061\n",
      "6062\n",
      "6071\n",
      "6101\n",
      "6104\n",
      "6140\n",
      "6167\n",
      "6181\n",
      "6268\n",
      "6368\n",
      "6370\n",
      "6380\n",
      "6441\n",
      "6477\n",
      "6518\n",
      "6569\n",
      "6597\n",
      "6681\n",
      "6703\n",
      "6756\n",
      "6824\n",
      "6850\n",
      "6882\n",
      "6939\n",
      "6971\n",
      "7001\n",
      "7038\n",
      "7053\n",
      "7084\n",
      "7090\n",
      "7182\n",
      "7188\n",
      "7190\n",
      "7242\n",
      "7308\n",
      "7368\n",
      "7386\n",
      "7393\n",
      "7404\n",
      "7413\n",
      "7490\n",
      "7525\n",
      "7567\n",
      "7617\n",
      "7635\n",
      "7647\n",
      "7656\n",
      "7663\n",
      "7723\n",
      "7769\n",
      "7786\n",
      "7837\n",
      "7854\n",
      "7861\n",
      "7910\n",
      "7921\n",
      "7944\n",
      "7972\n",
      "7987\n",
      "7994\n",
      "8037\n",
      "8039\n",
      "8069\n",
      "8082\n",
      "8094\n",
      "8106\n",
      "8153\n",
      "8181\n",
      "8213\n",
      "8217\n",
      "8278\n",
      "8311\n",
      "8326\n",
      "8473\n",
      "8500\n",
      "8563\n",
      "8565\n",
      "8575\n",
      "8579\n",
      "8591\n",
      "8636\n",
      "8703\n",
      "8710\n",
      "8759\n",
      "8776\n",
      "8779\n",
      "8817\n",
      "8829\n",
      "8833\n",
      "8861\n",
      "8867\n",
      "8871\n",
      "8909\n",
      "8947\n",
      "9010\n",
      "9044\n",
      "9066\n",
      "9124\n",
      "9143\n",
      "9173\n",
      "9188\n",
      "9195\n",
      "9256\n",
      "9263\n",
      "9264\n",
      "9281\n",
      "9299\n",
      "9304\n",
      "9331\n",
      "9339\n",
      "9344\n",
      "9435\n",
      "9440\n",
      "9441\n",
      "9449\n",
      "9503\n",
      "9666\n",
      "9691\n",
      "9757\n",
      "9831\n",
      "9841\n",
      "9860\n",
      "9865\n",
      "9886\n",
      "9906\n",
      "9929\n"
     ]
    }
   ],
   "source": [
    "sum_val = 0\n",
    "for i in range(10000):\n",
    "    x = X[i]\n",
    "    contours, _ = cv2.findContours(x, cv2.RETR_EXTERNAL, cv2.CHAIN_APPROX_SIMPLE)\n",
    "    if len(contours) == 1:\n",
    "        sum_val = sum_val + 1\n",
    "    else:\n",
    "        print(i)\n",
    "        \n"
   ]
  },
  {
   "cell_type": "code",
   "execution_count": 19,
   "metadata": {},
   "outputs": [
    {
     "data": {
      "text/plain": [
       "<matplotlib.image.AxesImage at 0x13f0c441780>"
      ]
     },
     "execution_count": 19,
     "metadata": {},
     "output_type": "execute_result"
    },
    {
     "data": {
      "image/png": "[encoded data removed]",
      "text/plain": [
       "<Figure size 432x288 with 1 Axes>"
      ]
     },
     "metadata": {},
     "output_type": "display_data"
    }
   ],
   "source": [
    "plt.imshow(X[29])"
   ]
  },
  {
   "cell_type": "code",
   "execution_count": 11,
   "metadata": {},
   "outputs": [],
   "source": [
    "x = X[0]"
   ]
  },
  {
   "cell_type": "code",
   "execution_count": 8,
   "metadata": {},
   "outputs": [
    {
     "data": {
      "text/plain": [
       "0.4212962962962963"
      ]
     },
     "execution_count": 8,
     "metadata": {},
     "output_type": "execute_result"
    }
   ],
   "source": [
    "1-125/216"
   ]
  },
  {
   "cell_type": "code",
   "execution_count": 12,
   "metadata": {},
   "outputs": [],
   "source": [
    "contours, _ = cv2.findContours(x, cv2.RETR_CCOMP, cv2.CHAIN_APPROX_SIMPLE)"
   ]
  },
  {
   "cell_type": "code",
   "execution_count": 13,
   "metadata": {},
   "outputs": [
    {
     "data": {
      "text/plain": [
       "1"
      ]
     },
     "execution_count": 13,
     "metadata": {},
     "output_type": "execute_result"
    }
   ],
   "source": [
    "len(contours)"
   ]
  },
  {
   "cell_type": "code",
   "execution_count": 26,
   "metadata": {},
   "outputs": [],
   "source": [
    "def calc(n):\n",
    "    p = 1 - 125/216\n",
    "    print('p: ', p)\n",
    "    sum_val = 0\n",
    "    for i in range(1, n+1):\n",
    "        sum_val = sum_val + i*(np.power(1-p,i-1))*p\n",
    "    return sum_val"
   ]
  },
  {
   "cell_type": "code",
   "execution_count": 34,
   "metadata": {},
   "outputs": [
    {
     "name": "stdout",
     "output_type": "stream",
     "text": [
      "p:  0.4212962962962963\n"
     ]
    },
    {
     "data": {
      "text/plain": [
       "2.373626373626374"
      ]
     },
     "execution_count": 34,
     "metadata": {},
     "output_type": "execute_result"
    }
   ],
   "source": [
    "calc(10000)"
   ]
  },
  {
   "cell_type": "code",
   "execution_count": 54,
   "metadata": {},
   "outputs": [
    {
     "data": {
      "text/plain": [
       "1.0"
      ]
     },
     "execution_count": 54,
     "metadata": {},
     "output_type": "execute_result"
    }
   ],
   "source": [
    "np.exp(0)"
   ]
  },
  {
   "cell_type": "code",
   "execution_count": 53,
   "metadata": {},
   "outputs": [
    {
     "data": {
      "text/plain": [
       "250000000000.0"
      ]
     },
     "execution_count": 53,
     "metadata": {},
     "output_type": "execute_result"
    }
   ],
   "source": [
    "1000000000000 / 1000 * 250"
   ]
  },
  {
   "cell_type": "code",
   "execution_count": 52,
   "metadata": {},
   "outputs": [
    {
     "data": {
      "text/plain": [
       "250000000000.0"
      ]
     },
     "execution_count": 52,
     "metadata": {},
     "output_type": "execute_result"
    }
   ],
   "source": [
    "1000000000000 / 1000 * 250"
   ]
  },
  {
   "cell_type": "code",
   "execution_count": 50,
   "metadata": {},
   "outputs": [
    {
     "name": "stdout",
     "output_type": "stream",
     "text": [
      "750\n"
     ]
    }
   ],
   "source": [
    "sum_val = 0\n",
    "for x in range(3000):\n",
    "    x_2 = np.power(x, 2)\n",
    "    if (x % 8) == (x_2 % 8):\n",
    "#         print(x)\n",
    "        sum_val = sum_val + 1\n",
    "print(sum_val)"
   ]
  },
  {
   "cell_type": "code",
   "execution_count": 41,
   "metadata": {},
   "outputs": [
    {
     "data": {
      "text/plain": [
       "18"
      ]
     },
     "execution_count": 41,
     "metadata": {},
     "output_type": "execute_result"
    }
   ],
   "source": [
    "x_2"
   ]
  },
  {
   "cell_type": "code",
   "execution_count": 23,
   "metadata": {},
   "outputs": [],
   "source": [
    "time_list = []\n",
    "n = list(range(10, 10000000, 1000000))\n",
    "num = 100\n",
    "for i in n:\n",
    "    \n",
    "    start = datetime.now()\n",
    "    for j in range(num):\n",
    "        p = 2**i\n",
    "    end = datetime.now()\n",
    "    delta = end - start\n",
    "    time_list.append(delta.total_seconds() / num)"
   ]
  },
  {
   "cell_type": "code",
   "execution_count": 24,
   "metadata": {},
   "outputs": [
    {
     "data": {
      "text/plain": [
       "[<matplotlib.lines.Line2D at 0x247bb64bef0>]"
      ]
     },
     "execution_count": 24,
     "metadata": {},
     "output_type": "execute_result"
    },
    {
     "data": {
      "image/png": "[encoded data removed]",
      "text/plain": [
       "<Figure size 432x288 with 1 Axes>"
      ]
     },
     "metadata": {},
     "output_type": "display_data"
    }
   ],
   "source": [
    "plt.plot(n, time_list)"
   ]
  },
  {
   "cell_type": "code",
   "execution_count": null,
   "metadata": {},
   "outputs": [],
   "source": []
  }
 ],
 "metadata": {
  "kernelspec": {
   "display_name": "Python 3",
   "language": "python",
   "name": "python3"
  },
  "language_info": {
   "codemirror_mode": {
    "name": "ipython",
    "version": 3
   },
   "file_extension": ".py",
   "mimetype": "text/x-python",
   "name": "python",
   "nbconvert_exporter": "python",
   "pygments_lexer": "ipython3",
   "version": "3.5.4"
  }
 },
 "nbformat": 4,
 "nbformat_minor": 2
}
