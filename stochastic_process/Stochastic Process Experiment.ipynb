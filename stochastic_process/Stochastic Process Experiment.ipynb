{
 "cells": [
  {
   "cell_type": "markdown",
   "metadata": {},
   "source": [
    "# Experiment 1"
   ]
  },
  {
   "cell_type": "code",
   "execution_count": 2,
   "metadata": {},
   "outputs": [],
   "source": [
    "import numpy as np\n",
    "import pandas as pd\n",
    "from matplotlib import pyplot as plt\n",
    "import sympy as s\n",
    "from sympy import Symbol\n",
    "from sympy import integrate"
   ]
  },
  {
   "cell_type": "code",
   "execution_count": 4,
   "metadata": {},
   "outputs": [],
   "source": [
    "def Bx_hat(X, i):\n",
    "    N = np.shape(X)[0]\n",
    "    EX = np.mean(X)\n",
    "    abs_i = abs(i)\n",
    "    val = 0\n",
    "    for n in range(0, N-abs(i)):\n",
    "        val += (X[n+abs_i]-EX)*(X[n]-EX)\n",
    "    val /= N\n",
    "    return val"
   ]
  },
  {
   "cell_type": "code",
   "execution_count": 3,
   "metadata": {},
   "outputs": [
    {
     "name": "stdout",
     "output_type": "stream",
     "text": [
      "[ 0.77132064  0.02075195  0.63364823  0.74880388  0.49850701  0.22479665\n",
      "  0.19806286  0.76053071  0.16911084  0.08833981  0.68535982  0.95339335\n",
      "  0.00394827  0.51219226  0.81262096  0.61252607  0.72175532  0.29187607\n",
      "  0.91777412  0.71457578  0.54254437  0.14217005  0.37334076  0.67413362\n",
      "  0.44183317  0.43401399  0.61776698  0.51313824  0.65039718  0.60103895\n",
      "  0.8052232   0.52164715  0.90864888  0.31923609  0.09045935  0.30070006\n",
      "  0.11398436  0.82868133  0.04689632  0.62628715  0.54758616  0.819287\n",
      "  0.19894754  0.8568503   0.35165264  0.75464769  0.29596171  0.88393648\n",
      "  0.32551164  0.1650159 ]\n"
     ]
    }
   ],
   "source": [
    "np.random.seed(10)\n",
    "X = np.random.rand(2000)\n",
    "print(X[0:50])"
   ]
  },
  {
   "cell_type": "code",
   "execution_count": 4,
   "metadata": {},
   "outputs": [
    {
     "data": {
      "image/png": "[encoded data removed]",
      "text/plain": [
       "<matplotlib.figure.Figure at 0x7fdd0e56a240>"
      ]
     },
     "metadata": {},
     "output_type": "display_data"
    }
   ],
   "source": [
    "plt.figure()\n",
    "amounts, _, _ = plt.hist(X)\n",
    "plt.title('hist of data')\n",
    "plt.ylabel('amount')\n",
    "plt.xlabel('t')\n",
    "plt.show()"
   ]
  },
  {
   "cell_type": "code",
   "execution_count": 5,
   "metadata": {},
   "outputs": [
    {
     "data": {
      "text/html": [
       "<div>\n",
       "<style>\n",
       "    .dataframe thead tr:only-child th {\n",
       "        text-align: right;\n",
       "    }\n",
       "\n",
       "    .dataframe thead th {\n",
       "        text-align: left;\n",
       "    }\n",
       "\n",
       "    .dataframe tbody tr th {\n",
       "        vertical-align: top;\n",
       "    }\n",
       "</style>\n",
       "<table border=\"1\" class=\"dataframe\">\n",
       "  <thead>\n",
       "    <tr style=\"text-align: right;\">\n",
       "      <th></th>\n",
       "      <th>1</th>\n",
       "      <th>2</th>\n",
       "      <th>3</th>\n",
       "      <th>4</th>\n",
       "      <th>5</th>\n",
       "      <th>6</th>\n",
       "      <th>7</th>\n",
       "      <th>8</th>\n",
       "      <th>9</th>\n",
       "      <th>10</th>\n",
       "    </tr>\n",
       "  </thead>\n",
       "  <tbody>\n",
       "    <tr>\n",
       "      <th>theoretical value</th>\n",
       "      <td>200.00</td>\n",
       "      <td>200.00</td>\n",
       "      <td>200.000</td>\n",
       "      <td>200.00</td>\n",
       "      <td>200.00</td>\n",
       "      <td>200.00</td>\n",
       "      <td>200.00</td>\n",
       "      <td>200.0</td>\n",
       "      <td>200.000</td>\n",
       "      <td>200.0</td>\n",
       "    </tr>\n",
       "    <tr>\n",
       "      <th>practical value</th>\n",
       "      <td>204.00</td>\n",
       "      <td>214.00</td>\n",
       "      <td>211.000</td>\n",
       "      <td>186.00</td>\n",
       "      <td>182.00</td>\n",
       "      <td>190.00</td>\n",
       "      <td>196.00</td>\n",
       "      <td>200.0</td>\n",
       "      <td>217.000</td>\n",
       "      <td>200.0</td>\n",
       "    </tr>\n",
       "    <tr>\n",
       "      <th>error</th>\n",
       "      <td>0.02</td>\n",
       "      <td>0.07</td>\n",
       "      <td>0.055</td>\n",
       "      <td>0.07</td>\n",
       "      <td>0.09</td>\n",
       "      <td>0.05</td>\n",
       "      <td>0.02</td>\n",
       "      <td>0.0</td>\n",
       "      <td>0.085</td>\n",
       "      <td>0.0</td>\n",
       "    </tr>\n",
       "  </tbody>\n",
       "</table>\n",
       "</div>"
      ],
      "text/plain": [
       "                       1       2        3       4       5       6       7   \\\n",
       "theoretical value  200.00  200.00  200.000  200.00  200.00  200.00  200.00   \n",
       "practical value    204.00  214.00  211.000  186.00  182.00  190.00  196.00   \n",
       "error                0.02    0.07    0.055    0.07    0.09    0.05    0.02   \n",
       "\n",
       "                      8        9      10  \n",
       "theoretical value  200.0  200.000  200.0  \n",
       "practical value    200.0  217.000  200.0  \n",
       "error                0.0    0.085    0.0  "
      ]
     },
     "execution_count": 5,
     "metadata": {},
     "output_type": "execute_result"
    }
   ],
   "source": [
    "data = np.zeros((3,10))\n",
    "data[0,:] = 200\n",
    "data[1,:] = amounts\n",
    "data[2,:] = np.absolute(amounts-data[0,:])/data[0,:]\n",
    "df = pd.DataFrame(data)\n",
    "df.index = ['theoretical value', 'practical value', 'error']\n",
    "df.columns = df.columns + 1\n",
    "df"
   ]
  },
  {
   "cell_type": "code",
   "execution_count": 6,
   "metadata": {},
   "outputs": [
    {
     "name": "stdout",
     "output_type": "stream",
     "text": [
      "theoretical mean:  0.5\n",
      "practical mean:  0.498595175369\n"
     ]
    }
   ],
   "source": [
    "print('theoretical mean: ', 0.5)\n",
    "print('practical mean: ', np.mean(X))"
   ]
  },
  {
   "cell_type": "code",
   "execution_count": 7,
   "metadata": {},
   "outputs": [
    {
     "name": "stdout",
     "output_type": "stream",
     "text": [
      "theoretical variance:  0.08333333333333333\n",
      "practical variance:  0.0856778615785\n"
     ]
    }
   ],
   "source": [
    "print('theoretical variance: ', 1/12)\n",
    "print('practical variance: ', np.var(X))"
   ]
  },
  {
   "cell_type": "code",
   "execution_count": 8,
   "metadata": {},
   "outputs": [
    {
     "data": {
      "image/png": "[encoded data removed]",
      "text/plain": [
       "<matplotlib.figure.Figure at 0x7fdd0e418b00>"
      ]
     },
     "metadata": {},
     "output_type": "display_data"
    }
   ],
   "source": [
    "Bx_h = np.zeros((21, 1))\n",
    "x = np.arange(-10, 10+1, 1)\n",
    "for i, v in enumerate(x):\n",
    "    Bx_h[i] = Bx_hat(X, v)\n",
    "\n",
    "plt.plot(x, np.zeros_like(x), '.-')\n",
    "plt.plot(x, Bx_h, '.-')\n",
    "plt.legend(['theoretical Bx', 'practical Bx'])\n",
    "plt.title('Bx')\n",
    "plt.show()"
   ]
  },
  {
   "cell_type": "code",
   "execution_count": 9,
   "metadata": {},
   "outputs": [
    {
     "data": {
      "text/html": [
       "<div>\n",
       "<style>\n",
       "    .dataframe thead tr:only-child th {\n",
       "        text-align: right;\n",
       "    }\n",
       "\n",
       "    .dataframe thead th {\n",
       "        text-align: left;\n",
       "    }\n",
       "\n",
       "    .dataframe tbody tr th {\n",
       "        vertical-align: top;\n",
       "    }\n",
       "</style>\n",
       "<table border=\"1\" class=\"dataframe\">\n",
       "  <thead>\n",
       "    <tr style=\"text-align: right;\">\n",
       "      <th></th>\n",
       "      <th>-10</th>\n",
       "      <th>-9</th>\n",
       "      <th>-8</th>\n",
       "      <th>-7</th>\n",
       "      <th>-6</th>\n",
       "      <th>-5</th>\n",
       "      <th>-4</th>\n",
       "      <th>-3</th>\n",
       "      <th>-2</th>\n",
       "      <th>-1</th>\n",
       "      <th>0</th>\n",
       "      <th>1</th>\n",
       "      <th>2</th>\n",
       "      <th>3</th>\n",
       "      <th>4</th>\n",
       "      <th>5</th>\n",
       "      <th>6</th>\n",
       "      <th>7</th>\n",
       "      <th>8</th>\n",
       "      <th>9</th>\n",
       "      <th>10</th>\n",
       "    </tr>\n",
       "  </thead>\n",
       "  <tbody>\n",
       "    <tr>\n",
       "      <th>theoretical Bx</th>\n",
       "      <td>0.00000</td>\n",
       "      <td>0.00000</td>\n",
       "      <td>0.00000</td>\n",
       "      <td>0.00000</td>\n",
       "      <td>0.00000</td>\n",
       "      <td>0.00000</td>\n",
       "      <td>0.0000</td>\n",
       "      <td>0.00000</td>\n",
       "      <td>0.00000</td>\n",
       "      <td>0.00000</td>\n",
       "      <td>1.00000</td>\n",
       "      <td>0.00000</td>\n",
       "      <td>0.00000</td>\n",
       "      <td>0.00000</td>\n",
       "      <td>0.0000</td>\n",
       "      <td>0.00000</td>\n",
       "      <td>0.00000</td>\n",
       "      <td>0.00000</td>\n",
       "      <td>0.00000</td>\n",
       "      <td>0.00000</td>\n",
       "      <td>0.00000</td>\n",
       "    </tr>\n",
       "    <tr>\n",
       "      <th>practical Bx</th>\n",
       "      <td>-0.00122</td>\n",
       "      <td>-0.00059</td>\n",
       "      <td>-0.00554</td>\n",
       "      <td>-0.00247</td>\n",
       "      <td>-0.00298</td>\n",
       "      <td>-0.00035</td>\n",
       "      <td>0.0006</td>\n",
       "      <td>0.00068</td>\n",
       "      <td>-0.00029</td>\n",
       "      <td>0.00194</td>\n",
       "      <td>0.08568</td>\n",
       "      <td>0.00194</td>\n",
       "      <td>-0.00029</td>\n",
       "      <td>0.00068</td>\n",
       "      <td>0.0006</td>\n",
       "      <td>-0.00035</td>\n",
       "      <td>-0.00298</td>\n",
       "      <td>-0.00247</td>\n",
       "      <td>-0.00554</td>\n",
       "      <td>-0.00059</td>\n",
       "      <td>-0.00122</td>\n",
       "    </tr>\n",
       "  </tbody>\n",
       "</table>\n",
       "</div>"
      ],
      "text/plain": [
       "                    -10      -9       -8       -7       -6       -5      -4   \\\n",
       "theoretical Bx  0.00000  0.00000  0.00000  0.00000  0.00000  0.00000  0.0000   \n",
       "practical Bx   -0.00122 -0.00059 -0.00554 -0.00247 -0.00298 -0.00035  0.0006   \n",
       "\n",
       "                    -3       -2       -1        0        1        2        3   \\\n",
       "theoretical Bx  0.00000  0.00000  0.00000  1.00000  0.00000  0.00000  0.00000   \n",
       "practical Bx    0.00068 -0.00029  0.00194  0.08568  0.00194 -0.00029  0.00068   \n",
       "\n",
       "                    4        5        6        7        8        9        10  \n",
       "theoretical Bx  0.0000  0.00000  0.00000  0.00000  0.00000  0.00000  0.00000  \n",
       "practical Bx    0.0006 -0.00035 -0.00298 -0.00247 -0.00554 -0.00059 -0.00122  "
      ]
     },
     "execution_count": 9,
     "metadata": {},
     "output_type": "execute_result"
    }
   ],
   "source": [
    "pd.set_option('display.max_columns',100)\n",
    "pd.set_option('display.precision',5)\n",
    "data = np.zeros((2,np.shape(x)[0]))\n",
    "data[0,:] = [0,0,0,0,0,0,0,0,0,0,1,0,0,0,0,0,0,0,0,0,0]\n",
    "data[1,:] = np.squeeze(Bx_h)\n",
    "df = pd.DataFrame(data)\n",
    "df.index = ['theoretical Bx', 'practical Bx']\n",
    "df.columns = x\n",
    "df"
   ]
  },
  {
   "cell_type": "markdown",
   "metadata": {},
   "source": [
    "# Experiment 2"
   ]
  },
  {
   "cell_type": "code",
   "execution_count": 10,
   "metadata": {},
   "outputs": [
    {
     "name": "stdout",
     "output_type": "stream",
     "text": [
      "[-0.78580149  0.91558336  0.26679742  1.03427115  0.01360813 -1.43302117\n",
      "  0.02838285  0.93930686 -0.27297461  0.71313708 -0.67394771 -1.18851013\n",
      " -1.03358154 -0.97556141 -0.05937913 -1.0852331   0.61210618 -0.49002067\n",
      " -1.15550763  0.31011511  0.10845409  0.83946053 -0.14980455 -0.56878991\n",
      "  0.94269235  0.1884211   0.34181886 -1.59142244  1.04672648 -0.11098559\n",
      " -1.61946593  0.3348359   1.38315576 -0.36999028 -0.33928221  0.01447092\n",
      " -1.02190267 -0.24710888 -2.32144219 -0.401806    1.70194589  0.49332755\n",
      "  0.1851737  -0.8163923   0.07346427  1.42283872  1.07912717  0.62912514\n",
      "  1.23192427 -0.6240719 ]\n"
     ]
    }
   ],
   "source": [
    "np.random.seed(55)\n",
    "X = np.random.rand(25000)\n",
    "# Y = np.random.randn(2000)\n",
    "Y = np.zeros(2000)\n",
    "for i in range(0,2000):\n",
    "    Y[i] = np.sum(X[12*i:12*i+12]-0.5)\n",
    "print(Y[0:50])"
   ]
  },
  {
   "cell_type": "code",
   "execution_count": 11,
   "metadata": {
    "scrolled": false
   },
   "outputs": [
    {
     "data": {
      "image/png": "[encoded data removed]",
      "text/plain": [
       "<matplotlib.figure.Figure at 0x7fdd0c368eb8>"
      ]
     },
     "metadata": {},
     "output_type": "display_data"
    }
   ],
   "source": [
    "plt.figure()\n",
    "amounts, _, _ = plt.hist(Y)\n",
    "plt.show()"
   ]
  },
  {
   "cell_type": "code",
   "execution_count": 12,
   "metadata": {},
   "outputs": [],
   "source": [
    "def gauss(x, mu1, sigma1):\n",
    "    return 1/(s.sqrt(2*s.pi)*sigma1)*s.exp(-(x-mu1)**2/(2*sigma1**2))"
   ]
  },
  {
   "cell_type": "code",
   "execution_count": 13,
   "metadata": {},
   "outputs": [
    {
     "data": {
      "text/html": [
       "<div>\n",
       "<style>\n",
       "    .dataframe thead tr:only-child th {\n",
       "        text-align: right;\n",
       "    }\n",
       "\n",
       "    .dataframe thead th {\n",
       "        text-align: left;\n",
       "    }\n",
       "\n",
       "    .dataframe tbody tr th {\n",
       "        vertical-align: top;\n",
       "    }\n",
       "</style>\n",
       "<table border=\"1\" class=\"dataframe\">\n",
       "  <thead>\n",
       "    <tr style=\"text-align: right;\">\n",
       "      <th></th>\n",
       "      <th>(-oo,-3]</th>\n",
       "      <th>(-3,-2]</th>\n",
       "      <th>(-2,-1]</th>\n",
       "      <th>(-1,0]</th>\n",
       "      <th>(0,1]</th>\n",
       "      <th>(1,2]</th>\n",
       "      <th>(2,3]</th>\n",
       "      <th>(3,oo)</th>\n",
       "    </tr>\n",
       "  </thead>\n",
       "  <tbody>\n",
       "    <tr>\n",
       "      <th>theoretical amounts</th>\n",
       "      <td>2.0</td>\n",
       "      <td>42.00000</td>\n",
       "      <td>271.00000</td>\n",
       "      <td>682.00000</td>\n",
       "      <td>682.00000</td>\n",
       "      <td>271.00000</td>\n",
       "      <td>42.00000</td>\n",
       "      <td>2.0</td>\n",
       "    </tr>\n",
       "    <tr>\n",
       "      <th>practical amounts</th>\n",
       "      <td>2.0</td>\n",
       "      <td>45.00000</td>\n",
       "      <td>284.00000</td>\n",
       "      <td>668.00000</td>\n",
       "      <td>667.00000</td>\n",
       "      <td>287.00000</td>\n",
       "      <td>45.00000</td>\n",
       "      <td>2.0</td>\n",
       "    </tr>\n",
       "    <tr>\n",
       "      <th>error(%)</th>\n",
       "      <td>0.0</td>\n",
       "      <td>7.14286</td>\n",
       "      <td>4.79705</td>\n",
       "      <td>2.05279</td>\n",
       "      <td>2.19941</td>\n",
       "      <td>5.90406</td>\n",
       "      <td>7.14286</td>\n",
       "      <td>0.0</td>\n",
       "    </tr>\n",
       "  </tbody>\n",
       "</table>\n",
       "</div>"
      ],
      "text/plain": [
       "                     (-oo,-3]   (-3,-2]    (-2,-1]     (-1,0]      (0,1]  \\\n",
       "theoretical amounts       2.0  42.00000  271.00000  682.00000  682.00000   \n",
       "practical amounts         2.0  45.00000  284.00000  668.00000  667.00000   \n",
       "error(%)                  0.0   7.14286    4.79705    2.05279    2.19941   \n",
       "\n",
       "                         (1,2]     (2,3]  (3,oo)  \n",
       "theoretical amounts  271.00000  42.00000     2.0  \n",
       "practical amounts    287.00000  45.00000     2.0  \n",
       "error(%)               5.90406   7.14286     0.0  "
      ]
     },
     "execution_count": 13,
     "metadata": {},
     "output_type": "execute_result"
    }
   ],
   "source": [
    "x = Symbol('x')\n",
    "y = gauss(x, 0, 1)\n",
    "lis_ther = []\n",
    "for i in ([-s.oo, -3], [-3, -2], [-2, -1], [-1, 0], [0, 1], [1, 2], \\\n",
    "          [2, 3], [3, s.oo]):\n",
    "    lis_ther.append(int(integrate(y, (x, i[0],i[1])).evalf()*2000))\n",
    "lis_pret = []\n",
    "lis_pret.append(np.sum(Y<-3))\n",
    "for i in ([-3, -2], [-2, -1], [-1, 0], [0, 1], [1, 2], [2, 3]):\n",
    "    lis_pret.append(np.sum((Y>i[0])&(Y<i[1])))\n",
    "lis_pret.append(np.sum(Y>3))\n",
    "\n",
    "# pd.set_option('display.max_colwidth',100)\n",
    "arr_ther = np.array(lis_ther)\n",
    "arr_pret = np.array(lis_pret)\n",
    "data = np.zeros((3,arr_ther.shape[0]))\n",
    "data[0,:] = arr_ther\n",
    "data[1,:] = arr_pret\n",
    "data[2,:] = np.abs(arr_pret-arr_ther)/arr_ther * 100\n",
    "df = pd.DataFrame(data)\n",
    "df.index = ['theoretical amounts', 'practical amounts', 'error(%)']\n",
    "df.columns = ['(-oo,-3]','(-3,-2]','(-2,-1]','(-1,0]','(0,1]','(1,2]',\\\n",
    "              '(2,3]','(3,oo)']\n",
    "df"
   ]
  },
  {
   "cell_type": "code",
   "execution_count": 14,
   "metadata": {},
   "outputs": [
    {
     "data": {
      "text/html": [
       "<div>\n",
       "<style>\n",
       "    .dataframe thead tr:only-child th {\n",
       "        text-align: right;\n",
       "    }\n",
       "\n",
       "    .dataframe thead th {\n",
       "        text-align: left;\n",
       "    }\n",
       "\n",
       "    .dataframe tbody tr th {\n",
       "        vertical-align: top;\n",
       "    }\n",
       "</style>\n",
       "<table border=\"1\" class=\"dataframe\">\n",
       "  <thead>\n",
       "    <tr style=\"text-align: right;\">\n",
       "      <th></th>\n",
       "      <th>1</th>\n",
       "      <th>2</th>\n",
       "      <th>3</th>\n",
       "      <th>4</th>\n",
       "      <th>5</th>\n",
       "      <th>6</th>\n",
       "      <th>7</th>\n",
       "      <th>8</th>\n",
       "      <th>9</th>\n",
       "      <th>10</th>\n",
       "    </tr>\n",
       "  </thead>\n",
       "  <tbody>\n",
       "    <tr>\n",
       "      <th>theoretical value</th>\n",
       "      <td>200.0</td>\n",
       "      <td>200.0</td>\n",
       "      <td>200.0</td>\n",
       "      <td>200.0</td>\n",
       "      <td>200.0</td>\n",
       "      <td>200.0</td>\n",
       "      <td>200.0</td>\n",
       "      <td>200.0</td>\n",
       "      <td>200.0</td>\n",
       "      <td>200.0</td>\n",
       "    </tr>\n",
       "    <tr>\n",
       "      <th>practical value</th>\n",
       "      <td>10.0</td>\n",
       "      <td>73.0</td>\n",
       "      <td>225.0</td>\n",
       "      <td>375.0</td>\n",
       "      <td>569.0</td>\n",
       "      <td>428.0</td>\n",
       "      <td>243.0</td>\n",
       "      <td>67.0</td>\n",
       "      <td>9.0</td>\n",
       "      <td>1.0</td>\n",
       "    </tr>\n",
       "  </tbody>\n",
       "</table>\n",
       "</div>"
      ],
      "text/plain": [
       "                      1      2      3      4      5      6      7      8   \\\n",
       "theoretical value  200.0  200.0  200.0  200.0  200.0  200.0  200.0  200.0   \n",
       "practical value     10.0   73.0  225.0  375.0  569.0  428.0  243.0   67.0   \n",
       "\n",
       "                      9      10  \n",
       "theoretical value  200.0  200.0  \n",
       "practical value      9.0    1.0  "
      ]
     },
     "execution_count": 14,
     "metadata": {},
     "output_type": "execute_result"
    }
   ],
   "source": [
    "data = np.zeros((2,10))\n",
    "data[0,:] = 200\n",
    "data[1,:] = amounts\n",
    "df = pd.DataFrame(data)\n",
    "df.index = ['theoretical value', 'practical value']\n",
    "df.columns = df.columns + 1\n",
    "df"
   ]
  },
  {
   "cell_type": "code",
   "execution_count": 15,
   "metadata": {},
   "outputs": [
    {
     "name": "stdout",
     "output_type": "stream",
     "text": [
      "theoretical mean value:  0.0\n",
      "practical mean value:  0.00705865846988\n"
     ]
    }
   ],
   "source": [
    "print('theoretical mean value: ', 0.0)\n",
    "print('practical mean value: ', np.mean(Y))"
   ]
  },
  {
   "cell_type": "code",
   "execution_count": 16,
   "metadata": {},
   "outputs": [
    {
     "name": "stdout",
     "output_type": "stream",
     "text": [
      "theoretical variance:  1\n",
      "practical variance:  1.01861058877\n"
     ]
    }
   ],
   "source": [
    "print('theoretical variance: ', 1)\n",
    "print('practical variance: ', np.var(Y))"
   ]
  },
  {
   "cell_type": "code",
   "execution_count": 17,
   "metadata": {
    "scrolled": true
   },
   "outputs": [
    {
     "data": {
      "image/png": "[encoded data removed]",
      "text/plain": [
       "<matplotlib.figure.Figure at 0x7fdd0c2877f0>"
      ]
     },
     "metadata": {},
     "output_type": "display_data"
    }
   ],
   "source": [
    "Bx_h = np.zeros((21, 1))\n",
    "x = np.arange(-10, 10+1, 1)\n",
    "for i, v in enumerate(x):\n",
    "    Bx_h[i] = Bx_hat(Y, v)\n",
    "plt.figure()\n",
    "plt.plot(x, [0,0,0,0,0,0,0,0,0,0,1,0,0,0,0,0,0,0,0,0,0], '.-')\n",
    "plt.plot(x, Bx_h, '.-')\n",
    "plt.legend(['theoretical Bx', 'practical Bx'])\n",
    "plt.title('Bx')\n",
    "plt.show()"
   ]
  },
  {
   "cell_type": "markdown",
   "metadata": {},
   "source": [
    "# Experiment 3"
   ]
  },
  {
   "cell_type": "code",
   "execution_count": 18,
   "metadata": {},
   "outputs": [],
   "source": [
    "cosi = np.random.randn(2000)\n",
    "X = np.zeros(1000)\n",
    "for i in range(1000):\n",
    "    X[i] = cosi[i+1] + 4*cosi[i]"
   ]
  },
  {
   "cell_type": "code",
   "execution_count": 19,
   "metadata": {},
   "outputs": [
    {
     "name": "stdout",
     "output_type": "stream",
     "text": [
      "X theoretical mean: 0.0\n",
      "X practical mean:  0.038527382835\n"
     ]
    }
   ],
   "source": [
    "print('X theoretical mean:', 0.0)\n",
    "print('X practical mean: ', np.mean(X))"
   ]
  },
  {
   "cell_type": "code",
   "execution_count": 20,
   "metadata": {},
   "outputs": [
    {
     "name": "stdout",
     "output_type": "stream",
     "text": [
      "X^2 theoretical mean:  17\n",
      "X^2 practical mean:  17.1254809939\n"
     ]
    }
   ],
   "source": [
    "print('X^2 theoretical mean: ', 17)\n",
    "print('X^2 practical mean: ', np.mean(X**2))"
   ]
  },
  {
   "cell_type": "code",
   "execution_count": 21,
   "metadata": {},
   "outputs": [
    {
     "name": "stdout",
     "output_type": "stream",
     "text": [
      "X theoretical variance:  17\n",
      "X practical variance:  17.1239966347\n"
     ]
    }
   ],
   "source": [
    "print('X theoretical variance: ', 17)\n",
    "print('X practical variance: ', np.mean(X**2)-np.mean(X)**2)"
   ]
  },
  {
   "cell_type": "code",
   "execution_count": 22,
   "metadata": {
    "scrolled": true
   },
   "outputs": [
    {
     "data": {
      "image/png": "[encoded data removed]",
      "text/plain": [
       "<matplotlib.figure.Figure at 0x7fdd0c2720f0>"
      ]
     },
     "metadata": {},
     "output_type": "display_data"
    }
   ],
   "source": [
    "Bx_h = np.zeros((21, 1))\n",
    "x = np.arange(-10, 10+1, 1)\n",
    "for i, v in enumerate(x):\n",
    "    Bx_h[i] = Bx_hat(X, v)\n",
    "\n",
    "plt.figure()\n",
    "plt.plot(x, [0,0,0,0,0,0,0,0,0,4,17,4,0,0,0,0,0,0,0,0,0], '.-')\n",
    "plt.plot(x, Bx_h, '.-')\n",
    "plt.legend(['theoretical Bx', 'practical Bx'])\n",
    "plt.title('Bx')\n",
    "plt.show()"
   ]
  },
  {
   "cell_type": "markdown",
   "metadata": {},
   "source": [
    "# Expriment 4"
   ]
  },
  {
   "cell_type": "code",
   "execution_count": 23,
   "metadata": {},
   "outputs": [],
   "source": [
    "cosi = np.random.randn(2000)\n",
    "k = 10\n",
    "X = np.zeros(k)\n",
    "X[0] = np.random.randn()\n",
    "for i in range(1, k):\n",
    "    X[i] = cosi[i] - 0.707*X[i-1]"
   ]
  },
  {
   "cell_type": "code",
   "execution_count": 24,
   "metadata": {},
   "outputs": [
    {
     "name": "stdout",
     "output_type": "stream",
     "text": [
      "X theoretical mean:  -0.000248772231688\n",
      "X practical mean:  -0.0943930641225\n"
     ]
    }
   ],
   "source": [
    "print('X theoretical mean: ', np.power(-0.707, k)*X[0])\n",
    "print('X practical mean: ', np.mean(X))"
   ]
  },
  {
   "cell_type": "code",
   "execution_count": 25,
   "metadata": {
    "scrolled": true
   },
   "outputs": [
    {
     "name": "stdout",
     "output_type": "stream",
     "text": [
      "X theoretical variance:  -0.000248772231688\n",
      "X practical variance  2.57313200231\n"
     ]
    }
   ],
   "source": [
    "print('X theoretical variance: ', np.power(-0.707, k)*X[0])\n",
    "print('X practical variance ', np.var(X))"
   ]
  },
  {
   "cell_type": "code",
   "execution_count": 26,
   "metadata": {},
   "outputs": [],
   "source": [
    "def f_gamma_x(X, m, a):\n",
    "    X_0 = X[0]\n",
    "    N = np.shape(X)[0]\n",
    "    EX = np.mean(X)\n",
    "    abs_m = abs(m)\n",
    "    val = 0\n",
    "    for k in range(1, N-abs_m+1):\n",
    "        s = k + abs_m\n",
    "        val += np.power((-a),k+s)*X_0**2+(np.power(-a,np.abs(k-s))-\\\n",
    "                                          np.power(-a,np.abs(k+s)))/(1-a**2)\n",
    "    val /= N\n",
    "    return val"
   ]
  },
  {
   "cell_type": "code",
   "execution_count": 27,
   "metadata": {},
   "outputs": [
    {
     "data": {
      "image/png": "[encoded data removed]",
      "text/plain": [
       "<matplotlib.figure.Figure at 0x7fdd0bf2c940>"
      ]
     },
     "metadata": {},
     "output_type": "display_data"
    }
   ],
   "source": [
    "Bx_h = np.zeros((21, 1))\n",
    "Bx_ex = np.zeros((21, 1))\n",
    "x = np.arange(-10, 10+1, 1)\n",
    "\n",
    "for i, v in enumerate(x):\n",
    "    Bx_ex[i] = f_gamma_x(X, v, 0.707)\n",
    "\n",
    "for i, v in enumerate(x):\n",
    "    Bx_h[i] = Bx_hat(X, v)\n",
    "\n",
    "plt.figure()\n",
    "plt.plot(x, Bx_ex, '.-')\n",
    "plt.plot(x, Bx_h, '.-')\n",
    "plt.legend(['theoretical Bx', 'practical Bx'])\n",
    "plt.title('Bx')\n",
    "plt.show()"
   ]
  },
  {
   "cell_type": "markdown",
   "metadata": {},
   "source": [
    "# Experiment 5"
   ]
  },
  {
   "cell_type": "code",
   "execution_count": 28,
   "metadata": {},
   "outputs": [],
   "source": [
    "def func(n):\n",
    "    X = np.arange(-n, n+1, 1)\n",
    "    X = np.sin(X*np.pi/2)\n",
    "    return X"
   ]
  },
  {
   "cell_type": "code",
   "execution_count": 29,
   "metadata": {},
   "outputs": [],
   "source": [
    "def X_t(t):\n",
    "    val = np.sin(t)\n",
    "    return val\n",
    "def Y_t(t, N):\n",
    "    val = 0\n",
    "    for n in range(-N, N+1):\n",
    "        val += X_t(n*np.pi/2) * np.sin(t-n*np.pi/2) / (t-n*np.pi/2)\n",
    "    return val"
   ]
  },
  {
   "cell_type": "code",
   "execution_count": 30,
   "metadata": {},
   "outputs": [
    {
     "data": {
      "image/png": "[encoded data removed]",
      "text/plain": [
       "<matplotlib.figure.Figure at 0x7fdd0bf55048>"
      ]
     },
     "metadata": {},
     "output_type": "display_data"
    }
   ],
   "source": [
    "x = np.arange(-10,10,0.1)\n",
    "x_t = X_t(x)\n",
    "plt.figure(figsize=[12,5])\n",
    "plt.plot(x, x_t, '.')\n",
    "for N in [5, 10, 20]:\n",
    "    y_t = Y_t(x, N)\n",
    "    plt.plot(x, y_t)\n",
    "plt.legend(['X(t)', 'Y(t),N=5', 'Y(t),N=10', 'Y(t),N=20'])\n",
    "plt.xlabel('x')\n",
    "plt.ylabel('y')\n",
    "plt.show()"
   ]
  },
  {
   "cell_type": "markdown",
   "metadata": {},
   "source": [
    "# Experiment 6"
   ]
  },
  {
   "cell_type": "code",
   "execution_count": 31,
   "metadata": {},
   "outputs": [
    {
     "name": "stdout",
     "output_type": "stream",
     "text": [
      "Instability\n"
     ]
    }
   ],
   "source": [
    "n = 20\n",
    "A = np.zeros((n*2,n+1))\n",
    "B = np.zeros((n*2,n))\n",
    "Alfa = np.zeros((n,1))\n",
    "Beta = np.zeros((n,1))\n",
    "A[0,:] = np.arange(1,n+1+1)\n",
    "# B[0,:] = np.where(np.arange(0,n)%2==0,-np.arange(2,n+1+1),np.arange(2,n+1+1))\n",
    "B[0,:] = np.zeros((1,n))\n",
    "B[0,-1] = 1\n",
    "for i in range(0,n):\n",
    "    for j in range(i,n,2):\n",
    "        A[i*2+1,j] = A[i*2,j+1]\n",
    "    for j in range(i,n-1,2):\n",
    "        B[i*2+1,j] = A[i*2,j+1]\n",
    "    if A[i*2+1,i] <= 0:\n",
    "        print('Instability')\n",
    "        break\n",
    "    Alfa[i,0] = A[i*2,i]/A[i*2+1,i]\n",
    "    Beta[i,0] = B[i*2,i]/B[i*2+1,i]\n",
    "    if i!=n-1:\n",
    "        for j in range(i+1,n,2):\n",
    "            A[i*2+2,j] = A[i*2,j]\n",
    "            A[i*2+2,j+1] = A[i*2,j+1] - Alfa[i]*A[i*2+1,j+1]\n",
    "        for j in range(i+1,n-1,2):\n",
    "            B[i*2+2,j] = B[i*2,j]\n",
    "            B[i*2+2,j+1] = B[i*2,j+1] - Beta[i]*B[i*2+1,j+1]"
   ]
  },
  {
   "cell_type": "code",
   "execution_count": 32,
   "metadata": {},
   "outputs": [
    {
     "data": {
      "text/html": [
       "<div>\n",
       "<style>\n",
       "    .dataframe thead tr:only-child th {\n",
       "        text-align: right;\n",
       "    }\n",
       "\n",
       "    .dataframe thead th {\n",
       "        text-align: left;\n",
       "    }\n",
       "\n",
       "    .dataframe tbody tr th {\n",
       "        vertical-align: top;\n",
       "    }\n",
       "</style>\n",
       "<table border=\"1\" class=\"dataframe\">\n",
       "  <thead>\n",
       "    <tr style=\"text-align: right;\">\n",
       "      <th></th>\n",
       "      <th>0</th>\n",
       "      <th>1</th>\n",
       "      <th>2</th>\n",
       "      <th>3</th>\n",
       "      <th>4</th>\n",
       "      <th>5</th>\n",
       "      <th>6</th>\n",
       "      <th>7</th>\n",
       "      <th>8</th>\n",
       "      <th>9</th>\n",
       "      <th>10</th>\n",
       "      <th>11</th>\n",
       "      <th>12</th>\n",
       "      <th>13</th>\n",
       "      <th>14</th>\n",
       "      <th>15</th>\n",
       "      <th>16</th>\n",
       "      <th>17</th>\n",
       "      <th>18</th>\n",
       "      <th>19</th>\n",
       "      <th>20</th>\n",
       "    </tr>\n",
       "  </thead>\n",
       "  <tbody>\n",
       "    <tr>\n",
       "      <th>0</th>\n",
       "      <td>1.0</td>\n",
       "      <td>2.0</td>\n",
       "      <td>3.0</td>\n",
       "      <td>4.0</td>\n",
       "      <td>5.0</td>\n",
       "      <td>6.0</td>\n",
       "      <td>7.0</td>\n",
       "      <td>8.0</td>\n",
       "      <td>9.0</td>\n",
       "      <td>10.0</td>\n",
       "      <td>11.0</td>\n",
       "      <td>12.0</td>\n",
       "      <td>13.0</td>\n",
       "      <td>14.0</td>\n",
       "      <td>15.0</td>\n",
       "      <td>16.0</td>\n",
       "      <td>17.0</td>\n",
       "      <td>18.0</td>\n",
       "      <td>19.0</td>\n",
       "      <td>20.0</td>\n",
       "      <td>21.0</td>\n",
       "    </tr>\n",
       "    <tr>\n",
       "      <th>1</th>\n",
       "      <td>2.0</td>\n",
       "      <td>0.0</td>\n",
       "      <td>4.0</td>\n",
       "      <td>0.0</td>\n",
       "      <td>6.0</td>\n",
       "      <td>0.0</td>\n",
       "      <td>8.0</td>\n",
       "      <td>0.0</td>\n",
       "      <td>10.0</td>\n",
       "      <td>0.0</td>\n",
       "      <td>12.0</td>\n",
       "      <td>0.0</td>\n",
       "      <td>14.0</td>\n",
       "      <td>0.0</td>\n",
       "      <td>16.0</td>\n",
       "      <td>0.0</td>\n",
       "      <td>18.0</td>\n",
       "      <td>0.0</td>\n",
       "      <td>20.0</td>\n",
       "      <td>0.0</td>\n",
       "      <td>0.0</td>\n",
       "    </tr>\n",
       "    <tr>\n",
       "      <th>2</th>\n",
       "      <td>0.0</td>\n",
       "      <td>2.0</td>\n",
       "      <td>1.0</td>\n",
       "      <td>4.0</td>\n",
       "      <td>2.0</td>\n",
       "      <td>6.0</td>\n",
       "      <td>3.0</td>\n",
       "      <td>8.0</td>\n",
       "      <td>4.0</td>\n",
       "      <td>10.0</td>\n",
       "      <td>5.0</td>\n",
       "      <td>12.0</td>\n",
       "      <td>6.0</td>\n",
       "      <td>14.0</td>\n",
       "      <td>7.0</td>\n",
       "      <td>16.0</td>\n",
       "      <td>8.0</td>\n",
       "      <td>18.0</td>\n",
       "      <td>9.0</td>\n",
       "      <td>20.0</td>\n",
       "      <td>21.0</td>\n",
       "    </tr>\n",
       "    <tr>\n",
       "      <th>3</th>\n",
       "      <td>0.0</td>\n",
       "      <td>1.0</td>\n",
       "      <td>0.0</td>\n",
       "      <td>2.0</td>\n",
       "      <td>0.0</td>\n",
       "      <td>3.0</td>\n",
       "      <td>0.0</td>\n",
       "      <td>4.0</td>\n",
       "      <td>0.0</td>\n",
       "      <td>5.0</td>\n",
       "      <td>0.0</td>\n",
       "      <td>6.0</td>\n",
       "      <td>0.0</td>\n",
       "      <td>7.0</td>\n",
       "      <td>0.0</td>\n",
       "      <td>8.0</td>\n",
       "      <td>0.0</td>\n",
       "      <td>9.0</td>\n",
       "      <td>0.0</td>\n",
       "      <td>21.0</td>\n",
       "      <td>0.0</td>\n",
       "    </tr>\n",
       "    <tr>\n",
       "      <th>4</th>\n",
       "      <td>0.0</td>\n",
       "      <td>0.0</td>\n",
       "      <td>1.0</td>\n",
       "      <td>0.0</td>\n",
       "      <td>2.0</td>\n",
       "      <td>0.0</td>\n",
       "      <td>3.0</td>\n",
       "      <td>0.0</td>\n",
       "      <td>4.0</td>\n",
       "      <td>0.0</td>\n",
       "      <td>5.0</td>\n",
       "      <td>0.0</td>\n",
       "      <td>6.0</td>\n",
       "      <td>0.0</td>\n",
       "      <td>7.0</td>\n",
       "      <td>0.0</td>\n",
       "      <td>8.0</td>\n",
       "      <td>0.0</td>\n",
       "      <td>9.0</td>\n",
       "      <td>-22.0</td>\n",
       "      <td>0.0</td>\n",
       "    </tr>\n",
       "    <tr>\n",
       "      <th>5</th>\n",
       "      <td>0.0</td>\n",
       "      <td>0.0</td>\n",
       "      <td>0.0</td>\n",
       "      <td>0.0</td>\n",
       "      <td>0.0</td>\n",
       "      <td>0.0</td>\n",
       "      <td>0.0</td>\n",
       "      <td>0.0</td>\n",
       "      <td>0.0</td>\n",
       "      <td>0.0</td>\n",
       "      <td>0.0</td>\n",
       "      <td>0.0</td>\n",
       "      <td>0.0</td>\n",
       "      <td>0.0</td>\n",
       "      <td>0.0</td>\n",
       "      <td>0.0</td>\n",
       "      <td>0.0</td>\n",
       "      <td>0.0</td>\n",
       "      <td>-22.0</td>\n",
       "      <td>0.0</td>\n",
       "      <td>0.0</td>\n",
       "    </tr>\n",
       "  </tbody>\n",
       "</table>\n",
       "</div>"
      ],
      "text/plain": [
       "    0    1    2    3    4    5    6    7     8     9     10    11    12    13  \\\n",
       "0  1.0  2.0  3.0  4.0  5.0  6.0  7.0  8.0   9.0  10.0  11.0  12.0  13.0  14.0   \n",
       "1  2.0  0.0  4.0  0.0  6.0  0.0  8.0  0.0  10.0   0.0  12.0   0.0  14.0   0.0   \n",
       "2  0.0  2.0  1.0  4.0  2.0  6.0  3.0  8.0   4.0  10.0   5.0  12.0   6.0  14.0   \n",
       "3  0.0  1.0  0.0  2.0  0.0  3.0  0.0  4.0   0.0   5.0   0.0   6.0   0.0   7.0   \n",
       "4  0.0  0.0  1.0  0.0  2.0  0.0  3.0  0.0   4.0   0.0   5.0   0.0   6.0   0.0   \n",
       "5  0.0  0.0  0.0  0.0  0.0  0.0  0.0  0.0   0.0   0.0   0.0   0.0   0.0   0.0   \n",
       "\n",
       "     14    15    16    17    18    19    20  \n",
       "0  15.0  16.0  17.0  18.0  19.0  20.0  21.0  \n",
       "1  16.0   0.0  18.0   0.0  20.0   0.0   0.0  \n",
       "2   7.0  16.0   8.0  18.0   9.0  20.0  21.0  \n",
       "3   0.0   8.0   0.0   9.0   0.0  21.0   0.0  \n",
       "4   7.0   0.0   8.0   0.0   9.0 -22.0   0.0  \n",
       "5   0.0   0.0   0.0   0.0 -22.0   0.0   0.0  "
      ]
     },
     "execution_count": 32,
     "metadata": {},
     "output_type": "execute_result"
    }
   ],
   "source": [
    "pd.DataFrame(A[:i*2+1+1,:])"
   ]
  },
  {
   "cell_type": "code",
   "execution_count": 33,
   "metadata": {},
   "outputs": [
    {
     "data": {
      "text/html": [
       "<div>\n",
       "<style>\n",
       "    .dataframe thead tr:only-child th {\n",
       "        text-align: right;\n",
       "    }\n",
       "\n",
       "    .dataframe thead th {\n",
       "        text-align: left;\n",
       "    }\n",
       "\n",
       "    .dataframe tbody tr th {\n",
       "        vertical-align: top;\n",
       "    }\n",
       "</style>\n",
       "<table border=\"1\" class=\"dataframe\">\n",
       "  <thead>\n",
       "    <tr style=\"text-align: right;\">\n",
       "      <th></th>\n",
       "      <th>0</th>\n",
       "      <th>1</th>\n",
       "      <th>2</th>\n",
       "      <th>3</th>\n",
       "      <th>4</th>\n",
       "      <th>5</th>\n",
       "      <th>6</th>\n",
       "      <th>7</th>\n",
       "      <th>8</th>\n",
       "      <th>9</th>\n",
       "      <th>10</th>\n",
       "      <th>11</th>\n",
       "      <th>12</th>\n",
       "      <th>13</th>\n",
       "      <th>14</th>\n",
       "      <th>15</th>\n",
       "      <th>16</th>\n",
       "      <th>17</th>\n",
       "      <th>18</th>\n",
       "      <th>19</th>\n",
       "    </tr>\n",
       "  </thead>\n",
       "  <tbody>\n",
       "    <tr>\n",
       "      <th>0</th>\n",
       "      <td>0.0</td>\n",
       "      <td>0.0</td>\n",
       "      <td>0.0</td>\n",
       "      <td>0.0</td>\n",
       "      <td>0.0</td>\n",
       "      <td>0.0</td>\n",
       "      <td>0.0</td>\n",
       "      <td>0.0</td>\n",
       "      <td>0.0</td>\n",
       "      <td>0.0</td>\n",
       "      <td>0.0</td>\n",
       "      <td>0.0</td>\n",
       "      <td>0.0</td>\n",
       "      <td>0.0</td>\n",
       "      <td>0.0</td>\n",
       "      <td>0.0</td>\n",
       "      <td>0.0</td>\n",
       "      <td>0.0</td>\n",
       "      <td>0.0</td>\n",
       "      <td>1.0</td>\n",
       "    </tr>\n",
       "    <tr>\n",
       "      <th>1</th>\n",
       "      <td>2.0</td>\n",
       "      <td>0.0</td>\n",
       "      <td>4.0</td>\n",
       "      <td>0.0</td>\n",
       "      <td>6.0</td>\n",
       "      <td>0.0</td>\n",
       "      <td>8.0</td>\n",
       "      <td>0.0</td>\n",
       "      <td>10.0</td>\n",
       "      <td>0.0</td>\n",
       "      <td>12.0</td>\n",
       "      <td>0.0</td>\n",
       "      <td>14.0</td>\n",
       "      <td>0.0</td>\n",
       "      <td>16.0</td>\n",
       "      <td>0.0</td>\n",
       "      <td>18.0</td>\n",
       "      <td>0.0</td>\n",
       "      <td>20.0</td>\n",
       "      <td>0.0</td>\n",
       "    </tr>\n",
       "    <tr>\n",
       "      <th>2</th>\n",
       "      <td>0.0</td>\n",
       "      <td>0.0</td>\n",
       "      <td>0.0</td>\n",
       "      <td>0.0</td>\n",
       "      <td>0.0</td>\n",
       "      <td>0.0</td>\n",
       "      <td>0.0</td>\n",
       "      <td>0.0</td>\n",
       "      <td>0.0</td>\n",
       "      <td>0.0</td>\n",
       "      <td>0.0</td>\n",
       "      <td>0.0</td>\n",
       "      <td>0.0</td>\n",
       "      <td>0.0</td>\n",
       "      <td>0.0</td>\n",
       "      <td>0.0</td>\n",
       "      <td>0.0</td>\n",
       "      <td>0.0</td>\n",
       "      <td>0.0</td>\n",
       "      <td>0.0</td>\n",
       "    </tr>\n",
       "    <tr>\n",
       "      <th>3</th>\n",
       "      <td>0.0</td>\n",
       "      <td>1.0</td>\n",
       "      <td>0.0</td>\n",
       "      <td>2.0</td>\n",
       "      <td>0.0</td>\n",
       "      <td>3.0</td>\n",
       "      <td>0.0</td>\n",
       "      <td>4.0</td>\n",
       "      <td>0.0</td>\n",
       "      <td>5.0</td>\n",
       "      <td>0.0</td>\n",
       "      <td>6.0</td>\n",
       "      <td>0.0</td>\n",
       "      <td>7.0</td>\n",
       "      <td>0.0</td>\n",
       "      <td>8.0</td>\n",
       "      <td>0.0</td>\n",
       "      <td>9.0</td>\n",
       "      <td>0.0</td>\n",
       "      <td>0.0</td>\n",
       "    </tr>\n",
       "    <tr>\n",
       "      <th>4</th>\n",
       "      <td>0.0</td>\n",
       "      <td>0.0</td>\n",
       "      <td>0.0</td>\n",
       "      <td>0.0</td>\n",
       "      <td>0.0</td>\n",
       "      <td>0.0</td>\n",
       "      <td>0.0</td>\n",
       "      <td>0.0</td>\n",
       "      <td>0.0</td>\n",
       "      <td>0.0</td>\n",
       "      <td>0.0</td>\n",
       "      <td>0.0</td>\n",
       "      <td>0.0</td>\n",
       "      <td>0.0</td>\n",
       "      <td>0.0</td>\n",
       "      <td>0.0</td>\n",
       "      <td>0.0</td>\n",
       "      <td>0.0</td>\n",
       "      <td>0.0</td>\n",
       "      <td>0.0</td>\n",
       "    </tr>\n",
       "    <tr>\n",
       "      <th>5</th>\n",
       "      <td>0.0</td>\n",
       "      <td>0.0</td>\n",
       "      <td>0.0</td>\n",
       "      <td>0.0</td>\n",
       "      <td>0.0</td>\n",
       "      <td>0.0</td>\n",
       "      <td>0.0</td>\n",
       "      <td>0.0</td>\n",
       "      <td>0.0</td>\n",
       "      <td>0.0</td>\n",
       "      <td>0.0</td>\n",
       "      <td>0.0</td>\n",
       "      <td>0.0</td>\n",
       "      <td>0.0</td>\n",
       "      <td>0.0</td>\n",
       "      <td>0.0</td>\n",
       "      <td>0.0</td>\n",
       "      <td>0.0</td>\n",
       "      <td>-22.0</td>\n",
       "      <td>0.0</td>\n",
       "    </tr>\n",
       "  </tbody>\n",
       "</table>\n",
       "</div>"
      ],
      "text/plain": [
       "    0    1    2    3    4    5    6    7     8    9     10   11    12   13  \\\n",
       "0  0.0  0.0  0.0  0.0  0.0  0.0  0.0  0.0   0.0  0.0   0.0  0.0   0.0  0.0   \n",
       "1  2.0  0.0  4.0  0.0  6.0  0.0  8.0  0.0  10.0  0.0  12.0  0.0  14.0  0.0   \n",
       "2  0.0  0.0  0.0  0.0  0.0  0.0  0.0  0.0   0.0  0.0   0.0  0.0   0.0  0.0   \n",
       "3  0.0  1.0  0.0  2.0  0.0  3.0  0.0  4.0   0.0  5.0   0.0  6.0   0.0  7.0   \n",
       "4  0.0  0.0  0.0  0.0  0.0  0.0  0.0  0.0   0.0  0.0   0.0  0.0   0.0  0.0   \n",
       "5  0.0  0.0  0.0  0.0  0.0  0.0  0.0  0.0   0.0  0.0   0.0  0.0   0.0  0.0   \n",
       "\n",
       "     14   15    16   17    18   19  \n",
       "0   0.0  0.0   0.0  0.0   0.0  1.0  \n",
       "1  16.0  0.0  18.0  0.0  20.0  0.0  \n",
       "2   0.0  0.0   0.0  0.0   0.0  0.0  \n",
       "3   0.0  8.0   0.0  9.0   0.0  0.0  \n",
       "4   0.0  0.0   0.0  0.0   0.0  0.0  \n",
       "5   0.0  0.0   0.0  0.0 -22.0  0.0  "
      ]
     },
     "execution_count": 33,
     "metadata": {},
     "output_type": "execute_result"
    }
   ],
   "source": [
    "pd.DataFrame(B[:i*2+1+1,:])"
   ]
  },
  {
   "cell_type": "markdown",
   "metadata": {},
   "source": [
    "# Experiment 7"
   ]
  },
  {
   "cell_type": "code",
   "execution_count": 5,
   "metadata": {},
   "outputs": [
    {
     "name": "stdout",
     "output_type": "stream",
     "text": [
      "Stability\n"
     ]
    }
   ],
   "source": [
    "n = 6\n",
    "A = np.zeros((n*2,n+1))\n",
    "B = np.zeros((n*2,n+1))\n",
    "Alfa = np.zeros((n,1))\n",
    "Beta = np.zeros((n,1))\n",
    "A[0,:] = np.array([1,0.5,0.58,-0.01,-0.0119,0.00005,0.00006])\n",
    "B[0,:] = np.array([0,0,   0,    0,      0,      1,  -0.55])\n",
    "flag = 0\n",
    "for i in range(0,n):\n",
    "    A[i*2+1,0:n+1-i] = A[i*2,0:n+1-i][::-1]\n",
    "    B[i*2+1,:] = A[i*2+1,:]\n",
    "    if A[i*2,0] <= 0:\n",
    "        print('Instability')\n",
    "        flag = 1\n",
    "        break\n",
    "    Alfa[i,0] = A[i*2+1,0]/A[i*2,0]\n",
    "    Beta[i,0] = B[i*2,n-i]/B[i*2+1,n-i]\n",
    "    if i!=n-1:\n",
    "        for j in range(0,n-i):\n",
    "            A[i*2+2,j] = A[i*2,j] - Alfa[i]*A[i*2+1,j]\n",
    "        for j in range(0,n-i):\n",
    "            B[i*2+2,j] = B[i*2,j] - Beta[i]*A[i*2+1,j]\n",
    "if flag != 1:\n",
    "    print('Stability')"
   ]
  },
  {
   "cell_type": "code",
   "execution_count": 6,
   "metadata": {},
   "outputs": [
    {
     "data": {
      "text/html": [
       "<div>\n",
       "<style>\n",
       "    .dataframe thead tr:only-child th {\n",
       "        text-align: right;\n",
       "    }\n",
       "\n",
       "    .dataframe thead th {\n",
       "        text-align: left;\n",
       "    }\n",
       "\n",
       "    .dataframe tbody tr th {\n",
       "        vertical-align: top;\n",
       "    }\n",
       "</style>\n",
       "<table border=\"1\" class=\"dataframe\">\n",
       "  <thead>\n",
       "    <tr style=\"text-align: right;\">\n",
       "      <th></th>\n",
       "      <th>0</th>\n",
       "      <th>1</th>\n",
       "      <th>2</th>\n",
       "      <th>3</th>\n",
       "      <th>4</th>\n",
       "      <th>5</th>\n",
       "      <th>6</th>\n",
       "    </tr>\n",
       "  </thead>\n",
       "  <tbody>\n",
       "    <tr>\n",
       "      <th>0</th>\n",
       "      <td>1.000000</td>\n",
       "      <td>0.500000</td>\n",
       "      <td>0.580000</td>\n",
       "      <td>-0.010000</td>\n",
       "      <td>-0.011900</td>\n",
       "      <td>0.00005</td>\n",
       "      <td>0.00006</td>\n",
       "    </tr>\n",
       "    <tr>\n",
       "      <th>1</th>\n",
       "      <td>0.000060</td>\n",
       "      <td>0.000050</td>\n",
       "      <td>-0.011900</td>\n",
       "      <td>-0.010000</td>\n",
       "      <td>0.580000</td>\n",
       "      <td>0.50000</td>\n",
       "      <td>1.00000</td>\n",
       "    </tr>\n",
       "    <tr>\n",
       "      <th>2</th>\n",
       "      <td>1.000000</td>\n",
       "      <td>0.500000</td>\n",
       "      <td>0.580001</td>\n",
       "      <td>-0.009999</td>\n",
       "      <td>-0.011935</td>\n",
       "      <td>0.00002</td>\n",
       "      <td>0.00000</td>\n",
       "    </tr>\n",
       "    <tr>\n",
       "      <th>3</th>\n",
       "      <td>0.000020</td>\n",
       "      <td>-0.011935</td>\n",
       "      <td>-0.009999</td>\n",
       "      <td>0.580001</td>\n",
       "      <td>0.500000</td>\n",
       "      <td>1.00000</td>\n",
       "      <td>0.00000</td>\n",
       "    </tr>\n",
       "    <tr>\n",
       "      <th>4</th>\n",
       "      <td>1.000000</td>\n",
       "      <td>0.500000</td>\n",
       "      <td>0.580001</td>\n",
       "      <td>-0.010011</td>\n",
       "      <td>-0.011945</td>\n",
       "      <td>0.00000</td>\n",
       "      <td>0.00000</td>\n",
       "    </tr>\n",
       "    <tr>\n",
       "      <th>5</th>\n",
       "      <td>-0.011945</td>\n",
       "      <td>-0.010011</td>\n",
       "      <td>0.580001</td>\n",
       "      <td>0.500000</td>\n",
       "      <td>1.000000</td>\n",
       "      <td>0.00000</td>\n",
       "      <td>0.00000</td>\n",
       "    </tr>\n",
       "    <tr>\n",
       "      <th>6</th>\n",
       "      <td>0.999857</td>\n",
       "      <td>0.499881</td>\n",
       "      <td>0.586929</td>\n",
       "      <td>-0.004039</td>\n",
       "      <td>0.000000</td>\n",
       "      <td>0.00000</td>\n",
       "      <td>0.00000</td>\n",
       "    </tr>\n",
       "    <tr>\n",
       "      <th>7</th>\n",
       "      <td>-0.004039</td>\n",
       "      <td>0.586929</td>\n",
       "      <td>0.499881</td>\n",
       "      <td>0.999857</td>\n",
       "      <td>0.000000</td>\n",
       "      <td>0.00000</td>\n",
       "      <td>0.00000</td>\n",
       "    </tr>\n",
       "    <tr>\n",
       "      <th>8</th>\n",
       "      <td>0.999841</td>\n",
       "      <td>0.502251</td>\n",
       "      <td>0.588948</td>\n",
       "      <td>0.000000</td>\n",
       "      <td>0.000000</td>\n",
       "      <td>0.00000</td>\n",
       "      <td>0.00000</td>\n",
       "    </tr>\n",
       "    <tr>\n",
       "      <th>9</th>\n",
       "      <td>0.588948</td>\n",
       "      <td>0.502251</td>\n",
       "      <td>0.999841</td>\n",
       "      <td>0.000000</td>\n",
       "      <td>0.000000</td>\n",
       "      <td>0.00000</td>\n",
       "      <td>0.00000</td>\n",
       "    </tr>\n",
       "    <tr>\n",
       "      <th>10</th>\n",
       "      <td>0.652926</td>\n",
       "      <td>0.206404</td>\n",
       "      <td>0.000000</td>\n",
       "      <td>0.000000</td>\n",
       "      <td>0.000000</td>\n",
       "      <td>0.00000</td>\n",
       "      <td>0.00000</td>\n",
       "    </tr>\n",
       "    <tr>\n",
       "      <th>11</th>\n",
       "      <td>0.206404</td>\n",
       "      <td>0.652926</td>\n",
       "      <td>0.000000</td>\n",
       "      <td>0.000000</td>\n",
       "      <td>0.000000</td>\n",
       "      <td>0.00000</td>\n",
       "      <td>0.00000</td>\n",
       "    </tr>\n",
       "  </tbody>\n",
       "</table>\n",
       "</div>"
      ],
      "text/plain": [
       "           0         1         2         3         4        5        6\n",
       "0   1.000000  0.500000  0.580000 -0.010000 -0.011900  0.00005  0.00006\n",
       "1   0.000060  0.000050 -0.011900 -0.010000  0.580000  0.50000  1.00000\n",
       "2   1.000000  0.500000  0.580001 -0.009999 -0.011935  0.00002  0.00000\n",
       "3   0.000020 -0.011935 -0.009999  0.580001  0.500000  1.00000  0.00000\n",
       "4   1.000000  0.500000  0.580001 -0.010011 -0.011945  0.00000  0.00000\n",
       "5  -0.011945 -0.010011  0.580001  0.500000  1.000000  0.00000  0.00000\n",
       "6   0.999857  0.499881  0.586929 -0.004039  0.000000  0.00000  0.00000\n",
       "7  -0.004039  0.586929  0.499881  0.999857  0.000000  0.00000  0.00000\n",
       "8   0.999841  0.502251  0.588948  0.000000  0.000000  0.00000  0.00000\n",
       "9   0.588948  0.502251  0.999841  0.000000  0.000000  0.00000  0.00000\n",
       "10  0.652926  0.206404  0.000000  0.000000  0.000000  0.00000  0.00000\n",
       "11  0.206404  0.652926  0.000000  0.000000  0.000000  0.00000  0.00000"
      ]
     },
     "execution_count": 6,
     "metadata": {},
     "output_type": "execute_result"
    }
   ],
   "source": [
    "pd.DataFrame(A[:i*2+1+1,:])"
   ]
  },
  {
   "cell_type": "code",
   "execution_count": 7,
   "metadata": {},
   "outputs": [
    {
     "data": {
      "text/html": [
       "<div>\n",
       "<style>\n",
       "    .dataframe thead tr:only-child th {\n",
       "        text-align: right;\n",
       "    }\n",
       "\n",
       "    .dataframe thead th {\n",
       "        text-align: left;\n",
       "    }\n",
       "\n",
       "    .dataframe tbody tr th {\n",
       "        vertical-align: top;\n",
       "    }\n",
       "</style>\n",
       "<table border=\"1\" class=\"dataframe\">\n",
       "  <thead>\n",
       "    <tr style=\"text-align: right;\">\n",
       "      <th></th>\n",
       "      <th>0</th>\n",
       "      <th>1</th>\n",
       "      <th>2</th>\n",
       "      <th>3</th>\n",
       "      <th>4</th>\n",
       "      <th>5</th>\n",
       "      <th>6</th>\n",
       "    </tr>\n",
       "  </thead>\n",
       "  <tbody>\n",
       "    <tr>\n",
       "      <th>0</th>\n",
       "      <td>0.000000</td>\n",
       "      <td>0.000000</td>\n",
       "      <td>0.000000</td>\n",
       "      <td>0.000000</td>\n",
       "      <td>0.0000</td>\n",
       "      <td>1.000</td>\n",
       "      <td>-0.55</td>\n",
       "    </tr>\n",
       "    <tr>\n",
       "      <th>1</th>\n",
       "      <td>0.000060</td>\n",
       "      <td>0.000050</td>\n",
       "      <td>-0.011900</td>\n",
       "      <td>-0.010000</td>\n",
       "      <td>0.5800</td>\n",
       "      <td>0.500</td>\n",
       "      <td>1.00</td>\n",
       "    </tr>\n",
       "    <tr>\n",
       "      <th>2</th>\n",
       "      <td>0.000033</td>\n",
       "      <td>0.000028</td>\n",
       "      <td>-0.006545</td>\n",
       "      <td>-0.005500</td>\n",
       "      <td>0.3190</td>\n",
       "      <td>1.275</td>\n",
       "      <td>0.00</td>\n",
       "    </tr>\n",
       "    <tr>\n",
       "      <th>3</th>\n",
       "      <td>0.000020</td>\n",
       "      <td>-0.011935</td>\n",
       "      <td>-0.009999</td>\n",
       "      <td>0.580001</td>\n",
       "      <td>0.5000</td>\n",
       "      <td>1.000</td>\n",
       "      <td>0.00</td>\n",
       "    </tr>\n",
       "    <tr>\n",
       "      <th>4</th>\n",
       "      <td>0.000007</td>\n",
       "      <td>0.015244</td>\n",
       "      <td>0.006204</td>\n",
       "      <td>-0.745001</td>\n",
       "      <td>-0.3185</td>\n",
       "      <td>0.000</td>\n",
       "      <td>0.00</td>\n",
       "    </tr>\n",
       "    <tr>\n",
       "      <th>5</th>\n",
       "      <td>-0.011945</td>\n",
       "      <td>-0.010011</td>\n",
       "      <td>0.580001</td>\n",
       "      <td>0.500000</td>\n",
       "      <td>1.0000</td>\n",
       "      <td>0.000</td>\n",
       "      <td>0.00</td>\n",
       "    </tr>\n",
       "    <tr>\n",
       "      <th>6</th>\n",
       "      <td>-0.003797</td>\n",
       "      <td>0.012056</td>\n",
       "      <td>0.190935</td>\n",
       "      <td>-0.585751</td>\n",
       "      <td>0.0000</td>\n",
       "      <td>0.000</td>\n",
       "      <td>0.00</td>\n",
       "    </tr>\n",
       "    <tr>\n",
       "      <th>7</th>\n",
       "      <td>-0.004039</td>\n",
       "      <td>0.586929</td>\n",
       "      <td>0.499881</td>\n",
       "      <td>0.999857</td>\n",
       "      <td>0.0000</td>\n",
       "      <td>0.000</td>\n",
       "      <td>0.00</td>\n",
       "    </tr>\n",
       "    <tr>\n",
       "      <th>8</th>\n",
       "      <td>-0.006163</td>\n",
       "      <td>0.355899</td>\n",
       "      <td>0.483782</td>\n",
       "      <td>0.000000</td>\n",
       "      <td>0.0000</td>\n",
       "      <td>0.000</td>\n",
       "      <td>0.00</td>\n",
       "    </tr>\n",
       "    <tr>\n",
       "      <th>9</th>\n",
       "      <td>0.588948</td>\n",
       "      <td>0.502251</td>\n",
       "      <td>0.999841</td>\n",
       "      <td>0.000000</td>\n",
       "      <td>0.0000</td>\n",
       "      <td>0.000</td>\n",
       "      <td>0.00</td>\n",
       "    </tr>\n",
       "    <tr>\n",
       "      <th>10</th>\n",
       "      <td>-0.291131</td>\n",
       "      <td>0.112880</td>\n",
       "      <td>0.000000</td>\n",
       "      <td>0.000000</td>\n",
       "      <td>0.0000</td>\n",
       "      <td>0.000</td>\n",
       "      <td>0.00</td>\n",
       "    </tr>\n",
       "    <tr>\n",
       "      <th>11</th>\n",
       "      <td>0.206404</td>\n",
       "      <td>0.652926</td>\n",
       "      <td>0.000000</td>\n",
       "      <td>0.000000</td>\n",
       "      <td>0.0000</td>\n",
       "      <td>0.000</td>\n",
       "      <td>0.00</td>\n",
       "    </tr>\n",
       "  </tbody>\n",
       "</table>\n",
       "</div>"
      ],
      "text/plain": [
       "           0         1         2         3       4      5     6\n",
       "0   0.000000  0.000000  0.000000  0.000000  0.0000  1.000 -0.55\n",
       "1   0.000060  0.000050 -0.011900 -0.010000  0.5800  0.500  1.00\n",
       "2   0.000033  0.000028 -0.006545 -0.005500  0.3190  1.275  0.00\n",
       "3   0.000020 -0.011935 -0.009999  0.580001  0.5000  1.000  0.00\n",
       "4   0.000007  0.015244  0.006204 -0.745001 -0.3185  0.000  0.00\n",
       "5  -0.011945 -0.010011  0.580001  0.500000  1.0000  0.000  0.00\n",
       "6  -0.003797  0.012056  0.190935 -0.585751  0.0000  0.000  0.00\n",
       "7  -0.004039  0.586929  0.499881  0.999857  0.0000  0.000  0.00\n",
       "8  -0.006163  0.355899  0.483782  0.000000  0.0000  0.000  0.00\n",
       "9   0.588948  0.502251  0.999841  0.000000  0.0000  0.000  0.00\n",
       "10 -0.291131  0.112880  0.000000  0.000000  0.0000  0.000  0.00\n",
       "11  0.206404  0.652926  0.000000  0.000000  0.0000  0.000  0.00"
      ]
     },
     "execution_count": 7,
     "metadata": {},
     "output_type": "execute_result"
    }
   ],
   "source": [
    "pd.DataFrame(B[:i*2+1+1,:])"
   ]
  },
  {
   "cell_type": "code",
   "execution_count": 8,
   "metadata": {},
   "outputs": [
    {
     "data": {
      "text/plain": [
       "array([[  6.00000000e-05],\n",
       "       [  2.00000001e-05],\n",
       "       [ -1.19448000e-02],\n",
       "       [ -4.03917349e-03],\n",
       "       [  5.89041668e-01],\n",
       "       [  3.16122127e-01]])"
      ]
     },
     "execution_count": 8,
     "metadata": {},
     "output_type": "execute_result"
    }
   ],
   "source": [
    "Alfa"
   ]
  },
  {
   "cell_type": "code",
   "execution_count": 9,
   "metadata": {},
   "outputs": [
    {
     "data": {
      "text/plain": [
       "array([[-0.55      ],\n",
       "       [ 1.275     ],\n",
       "       [-0.3185    ],\n",
       "       [-0.58583443],\n",
       "       [ 0.48385875],\n",
       "       [ 0.17288375]])"
      ]
     },
     "execution_count": 9,
     "metadata": {},
     "output_type": "execute_result"
    }
   ],
   "source": [
    "Beta"
   ]
  },
  {
   "cell_type": "code",
   "execution_count": 17,
   "metadata": {},
   "outputs": [
    {
     "data": {
      "text/plain": [
       "array([  1.00000000e+00,   6.00000000e-05,   9.99999996e-01,\n",
       "         2.00000000e-05,   9.99999996e-01,  -1.19448000e-02,\n",
       "         9.99857318e-01,  -4.03859718e-03,   9.99841005e-01,\n",
       "         5.88948014e-01,   6.52926085e-01,   2.06404383e-01])"
      ]
     },
     "execution_count": 17,
     "metadata": {},
     "output_type": "execute_result"
    }
   ],
   "source": [
    "A[:,0]"
   ]
  },
  {
   "cell_type": "code",
   "execution_count": 16,
   "metadata": {},
   "outputs": [
    {
     "data": {
      "text/plain": [
       "array([ 1.        ,  1.        ,  1.        ,  0.99985732,  0.99984101,\n",
       "        0.65292608])"
      ]
     },
     "execution_count": 16,
     "metadata": {},
     "output_type": "execute_result"
    }
   ],
   "source": [
    "A[:,0][::2]"
   ]
  },
  {
   "cell_type": "code",
   "execution_count": 1,
   "metadata": {},
   "outputs": [
    {
     "ename": "NameError",
     "evalue": "name 'np' is not defined",
     "output_type": "error",
     "traceback": [
      "\u001b[0;31m---------------------------------------------------------------------------\u001b[0m",
      "\u001b[0;31mNameError\u001b[0m                                 Traceback (most recent call last)",
      "\u001b[0;32m<ipython-input-1-63ecede5a6f1>\u001b[0m in \u001b[0;36m<module>\u001b[0;34m()\u001b[0m\n\u001b[0;32m----> 1\u001b[0;31m \u001b[0mIn\u001b[0m \u001b[0;34m=\u001b[0m \u001b[0;36m1\u001b[0m\u001b[0;34m/\u001b[0m\u001b[0mnp\u001b[0m\u001b[0;34m.\u001b[0m\u001b[0mpower\u001b[0m\u001b[0;34m(\u001b[0m\u001b[0mA\u001b[0m\u001b[0;34m[\u001b[0m\u001b[0;36m0\u001b[0m\u001b[0;34m,\u001b[0m\u001b[0;36m0\u001b[0m\u001b[0;34m]\u001b[0m\u001b[0;34m,\u001b[0m\u001b[0mn\u001b[0m\u001b[0;34m)\u001b[0m\u001b[0;34m*\u001b[0m\u001b[0mnp\u001b[0m\u001b[0;34m.\u001b[0m\u001b[0msum\u001b[0m\u001b[0;34m(\u001b[0m\u001b[0mBeta\u001b[0m\u001b[0;34m**\u001b[0m\u001b[0;36m2\u001b[0m\u001b[0;34m/\u001b[0m\u001b[0mA\u001b[0m\u001b[0;34m[\u001b[0m\u001b[0;34m:\u001b[0m\u001b[0;34m,\u001b[0m\u001b[0;36m0\u001b[0m\u001b[0;34m]\u001b[0m\u001b[0;34m[\u001b[0m\u001b[0;34m:\u001b[0m\u001b[0;34m:\u001b[0m\u001b[0;36m2\u001b[0m\u001b[0;34m]\u001b[0m\u001b[0;34m)\u001b[0m\u001b[0;34m\u001b[0m\u001b[0m\n\u001b[0m\u001b[1;32m      2\u001b[0m \u001b[0mprint\u001b[0m\u001b[0;34m(\u001b[0m\u001b[0mIn\u001b[0m\u001b[0;34m)\u001b[0m\u001b[0;34m\u001b[0m\u001b[0m\n",
      "\u001b[0;31mNameError\u001b[0m: name 'np' is not defined"
     ]
    }
   ],
   "source": [
    "In = 1/np.power(A[0,0],n)*np.sum(Beta**2/A[:,0][::2])\n",
    "print(In)"
   ]
  },
  {
   "cell_type": "markdown",
   "metadata": {},
   "source": [
    "# Experiment 8"
   ]
  },
  {
   "cell_type": "code",
   "execution_count": 40,
   "metadata": {
    "scrolled": true
   },
   "outputs": [
    {
     "data": {
      "image/png": "[encoded data removed]",
      "text/plain": [
       "<matplotlib.figure.Figure at 0x7fdd0bee31d0>"
      ]
     },
     "metadata": {},
     "output_type": "display_data"
    }
   ],
   "source": [
    "A = 0.78\n",
    "B = 3.11/4\n",
    "N = 40\n",
    "np.random.seed(12)\n",
    "epsilon = np.random.rand(N+1)*2*np.pi-np.pi\n",
    "w = 0.05*np.arange(0, 41)\n",
    "\n",
    "def sqrt_calculate(w_n, w_n_1):\n",
    "    if w_n==0:\n",
    "        w_n=1e-8\n",
    "    if w_n_1==0:\n",
    "        w_n_1=1e-8\n",
    "    val = np.exp(-B*np.power(w_n, -4))-np.exp(-B*np.power(w_n_1,-4))\n",
    "    val = np.sqrt(2*A/(4*B)*val)\n",
    "    return val\n",
    "\n",
    "def cosi(t):\n",
    "    val = 0\n",
    "    for i in range(1, N+1):\n",
    "        w_n = w[i]\n",
    "        w_n_1 = w[i-1]\n",
    "        val += sqrt_calculate(w_n, w_n_1)*np.cos(w_n*t+epsilon[i])\n",
    "    return val\n",
    "\n",
    "t = np.arange(0, 120, 0.1)\n",
    "val = cosi(t)\n",
    "plt.figure(figsize=[12,5])\n",
    "plt.plot(t, val, '-')\n",
    "plt.show()"
   ]
  },
  {
   "cell_type": "code",
   "execution_count": 41,
   "metadata": {},
   "outputs": [
    {
     "data": {
      "image/png": "[encoded data removed]",
      "text/plain": [
       "<matplotlib.figure.Figure at 0x7fdd0bebe390>"
      ]
     },
     "metadata": {},
     "output_type": "display_data"
    }
   ],
   "source": [
    "T0 = 0.3\n",
    "nT0 = T0*np.arange(1,400+1,1)\n",
    "lis = cosi(nT0)\n",
    "plt.figure(figsize=[12,5])\n",
    "plt.plot(nT0, lis, '-o')\n",
    "plt.legend(['T0=0.3s'])\n",
    "plt.show()"
   ]
  },
  {
   "cell_type": "code",
   "execution_count": 42,
   "metadata": {
    "scrolled": true
   },
   "outputs": [
    {
     "name": "stdout",
     "output_type": "stream",
     "text": [
      "mean:  -0.00436546577416\n"
     ]
    }
   ],
   "source": [
    "print('mean: ', np.mean(lis))"
   ]
  },
  {
   "cell_type": "code",
   "execution_count": 43,
   "metadata": {},
   "outputs": [
    {
     "data": {
      "image/png": "[encoded data removed]",
      "text/plain": [
       "<matplotlib.figure.Figure at 0x7fdd0a62a7b8>"
      ]
     },
     "metadata": {},
     "output_type": "display_data"
    }
   ],
   "source": [
    "Bx_h = np.zeros((61, 1))\n",
    "x = np.arange(-30, 30+1, 1)\n",
    "for i, v in enumerate(x):\n",
    "    Bx_h[i] = Bx_hat(lis, v)\n",
    "\n",
    "plt.figure()\n",
    "plt.plot(x, Bx_h, '.-')\n",
    "plt.title('practical Bx')\n",
    "plt.show()"
   ]
  },
  {
   "cell_type": "code",
   "execution_count": 44,
   "metadata": {},
   "outputs": [],
   "source": [
    "def S_cosi_hat(w):\n",
    "    T0 = 0.3\n",
    "    N = 400\n",
    "    val = 0\n",
    "    for m in range(1,N+1):\n",
    "        val += cosi(m*T0)*np.exp(np.complex(0,-w*m*T0))\n",
    "    return val.imag**2+val.real**2"
   ]
  },
  {
   "cell_type": "code",
   "execution_count": 45,
   "metadata": {
    "scrolled": true
   },
   "outputs": [
    {
     "data": {
      "image/png": "[encoded data removed]",
      "text/plain": [
       "<matplotlib.figure.Figure at 0x7fdd0a65cdd8>"
      ]
     },
     "metadata": {},
     "output_type": "display_data"
    }
   ],
   "source": [
    "S_cosi_w_n_hat = np.zeros((60,1))\n",
    "for i,v in enumerate(range(1, 61)):\n",
    "    w_n = 0.05*v\n",
    "    S_cosi_w_n_hat[i] = S_cosi_hat(w_n)\n",
    "plt.plot(S_cosi_w_n_hat, '.-')\n",
    "plt.title('S_wn')\n",
    "plt.show()"
   ]
  },
  {
   "cell_type": "code",
   "execution_count": 46,
   "metadata": {},
   "outputs": [],
   "source": [
    "def S_cosi(w):\n",
    "    return A/np.power(w,5)*np.exp(-B/np.power(w,4))\n",
    "S_cosi_w_n = np.zeros((60,1))\n",
    "for i,v in enumerate(range(1, 61)):\n",
    "    w_n = 0.05*v\n",
    "    S_cosi_w_n[i] = S_cosi(w_n)\n",
    "\n",
    "C = np.max(S_cosi_w_n_hat)/np.max(S_cosi_w_n)"
   ]
  },
  {
   "cell_type": "code",
   "execution_count": 47,
   "metadata": {},
   "outputs": [
    {
     "data": {
      "image/png": "[encoded data removed]",
      "text/plain": [
       "<matplotlib.figure.Figure at 0x7fdd0a5b3438>"
      ]
     },
     "metadata": {},
     "output_type": "display_data"
    }
   ],
   "source": [
    "plt.plot()\n",
    "plt.plot(S_cosi_w_n_hat, '.-')\n",
    "plt.plot(S_cosi_w_n*C, '.-')\n",
    "plt.legend(['S_w', 'C*S_w_hat'])\n",
    "plt.show()"
   ]
  }
 ],
 "metadata": {
  "kernelspec": {
   "display_name": "Python 3",
   "language": "python",
   "name": "python3"
  },
  "language_info": {
   "codemirror_mode": {
    "name": "ipython",
    "version": 3
   },
   "file_extension": ".py",
   "mimetype": "text/x-python",
   "name": "python",
   "nbconvert_exporter": "python",
   "pygments_lexer": "ipython3",
   "version": "3.5.2"
  }
 },
 "nbformat": 4,
 "nbformat_minor": 2
}
