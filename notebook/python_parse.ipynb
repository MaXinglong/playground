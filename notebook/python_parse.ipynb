{
 "cells": [
  {
   "cell_type": "code",
   "execution_count": 14,
   "metadata": {},
   "outputs": [
    {
     "name": "stdout",
     "output_type": "stream",
     "text": [
      "usage: myprogram [-h] [--foo FOO] bar [bar ...]\n",
      "\n",
      "A foo that bars\n",
      "\n",
      "positional arguments:\n",
      "  bar         bar help\n",
      "\n",
      "optional arguments:\n",
      "  -h, --help  show this help message and exit\n",
      "  --foo FOO   foo help\n"
     ]
    }
   ],
   "source": [
    "import argparse\n",
    "parser = argparse.ArgumentParser(prog='myprogram', \n",
    "                                description='A foo that bars')\n",
    "parser.add_argument('--foo', \n",
    "                    default=42, type=float,\n",
    "                    help='foo help')\n",
    "parser.add_argument('bar', nargs='+', help='bar help')\n",
    "parser.print_help()"
   ]
  },
  {
   "cell_type": "code",
   "execution_count": 15,
   "metadata": {},
   "outputs": [
    {
     "name": "stdout",
     "output_type": "stream",
     "text": [
      "Namespace(bar=['bar', '3'], foo=4.0)\n"
     ]
    }
   ],
   "source": [
    "args = parser.parse_args('bar 3 --foo 4'.split())\n",
    "print(args)"
   ]
  },
  {
   "cell_type": "code",
   "execution_count": null,
   "metadata": {},
   "outputs": [],
   "source": []
  }
 ],
 "metadata": {
  "kernelspec": {
   "display_name": "Python 3",
   "language": "python",
   "name": "python3"
  },
  "language_info": {
   "codemirror_mode": {
    "name": "ipython",
    "version": 3
   },
   "file_extension": ".py",
   "mimetype": "text/x-python",
   "name": "python",
   "nbconvert_exporter": "python",
   "pygments_lexer": "ipython3",
   "version": "3.5.4"
  }
 },
 "nbformat": 4,
 "nbformat_minor": 2
}
