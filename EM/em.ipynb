{
 "cells": [
  {
   "cell_type": "markdown",
   "metadata": {},
   "source": [
    "# EM(Expectation-Maximization) algorithm"
   ]
  },
  {
   "cell_type": "markdown",
   "metadata": {},
   "source": [
    "## Gaussian function"
   ]
  },
  {
   "cell_type": "code",
   "execution_count": 2,
   "metadata": {},
   "outputs": [],
   "source": [
    "import numpy as np\n",
    "import matplotlib.pyplot as plt"
   ]
  },
  {
   "cell_type": "code",
   "execution_count": 96,
   "metadata": {
    "slideshow": {
     "slide_type": "subslide"
    }
   },
   "outputs": [],
   "source": [
    "def gauss(x, mu, sigma, eps=1e-8):\n",
    "    return 1./np.sqrt(np.pi*2*sigma**2+eps) * np.exp(-(x-mu)**2/(2*sigma**2+eps))"
   ]
  },
  {
   "cell_type": "code",
   "execution_count": 139,
   "metadata": {},
   "outputs": [],
   "source": [
    "def gauss_vec(x, mu, sigma, eps=1e-8):\n",
    "    \"\"\" x:  Nx1\n",
    "        mu: 1xm\"\"\"\n",
    "    x = x.reshape(-1, 1)\n",
    "    mu = mu.reshape(1, -1)\n",
    "    x = x.repeat(mu.shape[1], axis=1)\n",
    "    mu = mu.repeat(x.shape[0], axis=0)\n",
    "    return gauss(x, mu, sigma, eps)"
   ]
  },
  {
   "cell_type": "code",
   "execution_count": 124,
   "metadata": {},
   "outputs": [
    {
     "data": {
      "image/png": "[encoded data removed]",
      "text/plain": [
       "<Figure size 432x288 with 1 Axes>"
      ]
     },
     "metadata": {},
     "output_type": "display_data"
    }
   ],
   "source": [
    "x = np.arange(-10, 10, 0.1)\n",
    "y = gauss(x, 0, 1)\n",
    "plt.plot(x, y)\n",
    "plt.show()"
   ]
  },
  {
   "cell_type": "code",
   "execution_count": null,
   "metadata": {},
   "outputs": [],
   "source": []
  },
  {
   "cell_type": "code",
   "execution_count": 138,
   "metadata": {},
   "outputs": [
    {
     "data": {
      "text/plain": [
       "[<matplotlib.lines.Line2D at 0x17354ca0898>]"
      ]
     },
     "execution_count": 138,
     "metadata": {},
     "output_type": "execute_result"
    },
    {
     "data": {
      "image/png": "[encoded data removed]",
      "text/plain": [
       "<Figure size 432x288 with 1 Axes>"
      ]
     },
     "metadata": {},
     "output_type": "display_data"
    }
   ],
   "source": [
    "plt.plot(gauss_vec(t, np.array([1]), SIGMA).squeeze(1), np.zeros_like(gauss_vec(t, np.array([1]), SIGMA).squeeze(1)), '.')"
   ]
  },
  {
   "cell_type": "markdown",
   "metadata": {},
   "source": [
    "## EM"
   ]
  },
  {
   "cell_type": "code",
   "execution_count": 22,
   "metadata": {},
   "outputs": [],
   "source": [
    "SIGMA = 1"
   ]
  },
  {
   "cell_type": "code",
   "execution_count": 99,
   "metadata": {},
   "outputs": [],
   "source": [
    "def init_h_of_mu(k, begin, stop):\n",
    "    return (np.random.rand(k)*(stop-begin)+begin).reshape(1, -1)"
   ]
  },
  {
   "cell_type": "code",
   "execution_count": 239,
   "metadata": {},
   "outputs": [],
   "source": [
    "def step1_calculate_Expectation(x, h_of_mu):\n",
    "    # posibility\n",
    "    p = gauss_vec(x, h, SIGMA)\n",
    "    p = p/np.sum(p, axis=1, keepdims=True)\n",
    "    return p    "
   ]
  },
  {
   "cell_type": "code",
   "execution_count": 242,
   "metadata": {},
   "outputs": [],
   "source": [
    "def step2_calculate_h_of_mu(x, expetation):\n",
    "    return np.sum(x * expetation, axis=0)/np.sum(expetation, axis=0)"
   ]
  },
  {
   "cell_type": "code",
   "execution_count": 262,
   "metadata": {},
   "outputs": [
    {
     "name": "stdout",
     "output_type": "stream",
     "text": [
      "[[-2.27021436 -8.44157772 -2.63748248]]\n",
      "[ 8.21343293 -2.07567921  1.58702037]\n",
      "[11.02493292 -0.59211363  1.33722335]\n",
      "[11.68124603  0.17705603  2.51506037]\n",
      "[12.88151772  0.51719481  4.42662552]\n",
      "[14.72983321  0.87667777  6.40027553]\n",
      "[14.97459046  1.04177454  6.90820409]\n",
      "[14.97836755  1.05374323  6.92443208]\n",
      "[14.97838465  1.05443516  6.92511321]\n",
      "[14.9783852   1.05446937  6.92514643]\n",
      "[14.97838522  1.05447105  6.92514806]\n"
     ]
    }
   ],
   "source": [
    "k = 3\n",
    "h = init_h_of_mu(k, -20, 20)\n",
    "print(h)\n",
    "for i in range(10):\n",
    "    p = step1_calculate_Expectation(t.reshape(-1, 1), h)\n",
    "    h = step2_calculate_h_of_mu(t.reshape(-1, 1), p)\n",
    "    print(h)"
   ]
  },
  {
   "cell_type": "markdown",
   "metadata": {},
   "source": [
    "## Generate dataset"
   ]
  },
  {
   "cell_type": "code",
   "execution_count": 232,
   "metadata": {},
   "outputs": [],
   "source": [
    "def get_multi_gauss(mu=[1, 7, 15]):\n",
    "    samples = 200\n",
    "    \n",
    "    mu = np.array([mu]).reshape(1, -1)\n",
    "    mu = mu.repeat(samples, axis=0)\n",
    "    ds = np.random.randn(samples, mu.shape[1])*SIGMA\n",
    "#     ds += np.random.randn(*ds.shape)*0.01\n",
    "    \n",
    "    return (ds + mu).reshape(-1)"
   ]
  },
  {
   "cell_type": "code",
   "execution_count": 244,
   "metadata": {},
   "outputs": [],
   "source": [
    "t = get_multi_gauss([1, 7, 15])\n",
    "# t = get_multi_gauss([-15, 15])"
   ]
  },
  {
   "cell_type": "code",
   "execution_count": 245,
   "metadata": {},
   "outputs": [
    {
     "data": {
      "text/plain": [
       "[<matplotlib.lines.Line2D at 0x17355e70ef0>]"
      ]
     },
     "execution_count": 245,
     "metadata": {},
     "output_type": "execute_result"
    },
    {
     "data": {
      "image/png": "[encoded data removed]",
      "text/plain": [
       "<Figure size 432x288 with 1 Axes>"
      ]
     },
     "metadata": {},
     "output_type": "display_data"
    }
   ],
   "source": [
    "plt.plot(t, np.zeros_like(t), '.')"
   ]
  }
 ],
 "metadata": {
  "kernelspec": {
   "display_name": "Python 3",
   "language": "python",
   "name": "python3"
  },
  "language_info": {
   "codemirror_mode": {
    "name": "ipython",
    "version": 3
   },
   "file_extension": ".py",
   "mimetype": "text/x-python",
   "name": "python",
   "nbconvert_exporter": "python",
   "pygments_lexer": "ipython3",
   "version": "3.5.4"
  }
 },
 "nbformat": 4,
 "nbformat_minor": 2
}
